{
  "nbformat": 4,
  "nbformat_minor": 0,
  "metadata": {
    "colab": {
      "name": "Rajat Pal - Capstone project on Nifty50 .ipynb",
      "provenance": [],
      "mount_file_id": "1Yje-Rv3_jrFiyh3f_Dj4zseE7WMt9yq-",
      "authorship_tag": "ABX9TyOstp4qt6Nf8BRBreUl1SjX",
      "include_colab_link": true
    },
    "kernelspec": {
      "display_name": "Python 3",
      "name": "python3"
    },
    "language_info": {
      "name": "python"
    }
  },
  "cells": [
    {
      "cell_type": "markdown",
      "metadata": {
        "id": "view-in-github",
        "colab_type": "text"
      },
      "source": [
        "<a href=\"https://colab.research.google.com/github/rajatpal00/Close-Price--Prediction-of-Nifty50-/blob/main/Rajat_Pal_Capstone_project_on_Nifty50_.ipynb\" target=\"_parent\"><img src=\"https://colab.research.google.com/assets/colab-badge.svg\" alt=\"Open In Colab\"/></a>"
      ]
    },
    {
      "cell_type": "markdown",
      "metadata": {
        "id": "qQh_wjdyFB34"
      },
      "source": [
        "# **Capston Project**\n",
        "\n",
        "We are given a Nifty50 data set for 20 years from jan 2000 to may 2021.\n",
        "\n",
        "*The NIFTY 50 is a benchmark Indian stock market index that represents the weighted average of 50 of the largest Indian companies listed on the National Stock Exchange*\n"
      ]
    },
    {
      "cell_type": "markdown",
      "metadata": {
        "id": "Jrhc4EiN4cIm"
      },
      "source": [
        "\n",
        "Data contain opening, closing, high and low price of each day, our task is to predict closing price for next days."
      ]
    },
    {
      "cell_type": "code",
      "metadata": {
        "id": "W5Orr5LBEiiu"
      },
      "source": [
        "#importing libararies\n",
        "import pandas as pd\n",
        "import numpy as np\n",
        "import matplotlib.pyplot as plt\n",
        "import seaborn as sns"
      ],
      "execution_count": 1,
      "outputs": []
    },
    {
      "cell_type": "code",
      "metadata": {
        "id": "pzEvJITRF9yd"
      },
      "source": [
        "data_df= pd.read_csv('/content/drive/MyDrive/AlmaBetter/capstone project/Yes bank share price/Nifty50_data.csv')"
      ],
      "execution_count": 2,
      "outputs": []
    },
    {
      "cell_type": "code",
      "metadata": {
        "colab": {
          "base_uri": "https://localhost:8080/",
          "height": 348
        },
        "id": "OYXVSwC5GA8M",
        "outputId": "365602a3-5a1a-4e20-a752-e4e3d3513d4f"
      },
      "source": [
        "data_df.head(10)"
      ],
      "execution_count": 3,
      "outputs": [
        {
          "output_type": "execute_result",
          "data": {
            "text/html": [
              "<div>\n",
              "<style scoped>\n",
              "    .dataframe tbody tr th:only-of-type {\n",
              "        vertical-align: middle;\n",
              "    }\n",
              "\n",
              "    .dataframe tbody tr th {\n",
              "        vertical-align: top;\n",
              "    }\n",
              "\n",
              "    .dataframe thead th {\n",
              "        text-align: right;\n",
              "    }\n",
              "</style>\n",
              "<table border=\"1\" class=\"dataframe\">\n",
              "  <thead>\n",
              "    <tr style=\"text-align: right;\">\n",
              "      <th></th>\n",
              "      <th>Date</th>\n",
              "      <th>Open</th>\n",
              "      <th>High</th>\n",
              "      <th>Low</th>\n",
              "      <th>Close</th>\n",
              "    </tr>\n",
              "  </thead>\n",
              "  <tbody>\n",
              "    <tr>\n",
              "      <th>0</th>\n",
              "      <td>2000-01-03</td>\n",
              "      <td>1482.15</td>\n",
              "      <td>1592.90</td>\n",
              "      <td>1482.15</td>\n",
              "      <td>1592.20</td>\n",
              "    </tr>\n",
              "    <tr>\n",
              "      <th>1</th>\n",
              "      <td>2000-01-04</td>\n",
              "      <td>1594.40</td>\n",
              "      <td>1641.95</td>\n",
              "      <td>1594.40</td>\n",
              "      <td>1638.70</td>\n",
              "    </tr>\n",
              "    <tr>\n",
              "      <th>2</th>\n",
              "      <td>2000-01-05</td>\n",
              "      <td>1634.55</td>\n",
              "      <td>1635.50</td>\n",
              "      <td>1555.05</td>\n",
              "      <td>1595.80</td>\n",
              "    </tr>\n",
              "    <tr>\n",
              "      <th>3</th>\n",
              "      <td>2000-01-06</td>\n",
              "      <td>1595.80</td>\n",
              "      <td>1639.00</td>\n",
              "      <td>1595.80</td>\n",
              "      <td>1617.60</td>\n",
              "    </tr>\n",
              "    <tr>\n",
              "      <th>4</th>\n",
              "      <td>2000-01-07</td>\n",
              "      <td>1616.60</td>\n",
              "      <td>1628.25</td>\n",
              "      <td>1597.20</td>\n",
              "      <td>1613.30</td>\n",
              "    </tr>\n",
              "    <tr>\n",
              "      <th>5</th>\n",
              "      <td>2000-01-10</td>\n",
              "      <td>1615.65</td>\n",
              "      <td>1662.10</td>\n",
              "      <td>1614.95</td>\n",
              "      <td>1632.95</td>\n",
              "    </tr>\n",
              "    <tr>\n",
              "      <th>6</th>\n",
              "      <td>2000-01-11</td>\n",
              "      <td>1633.25</td>\n",
              "      <td>1639.90</td>\n",
              "      <td>1548.25</td>\n",
              "      <td>1572.50</td>\n",
              "    </tr>\n",
              "    <tr>\n",
              "      <th>7</th>\n",
              "      <td>2000-01-12</td>\n",
              "      <td>1572.30</td>\n",
              "      <td>1631.55</td>\n",
              "      <td>1571.70</td>\n",
              "      <td>1624.80</td>\n",
              "    </tr>\n",
              "    <tr>\n",
              "      <th>8</th>\n",
              "      <td>2000-01-13</td>\n",
              "      <td>1627.85</td>\n",
              "      <td>1671.15</td>\n",
              "      <td>1613.65</td>\n",
              "      <td>1621.40</td>\n",
              "    </tr>\n",
              "    <tr>\n",
              "      <th>9</th>\n",
              "      <td>2000-01-14</td>\n",
              "      <td>1622.15</td>\n",
              "      <td>1627.40</td>\n",
              "      <td>1591.40</td>\n",
              "      <td>1622.75</td>\n",
              "    </tr>\n",
              "  </tbody>\n",
              "</table>\n",
              "</div>"
            ],
            "text/plain": [
              "         Date     Open     High      Low    Close\n",
              "0  2000-01-03  1482.15  1592.90  1482.15  1592.20\n",
              "1  2000-01-04  1594.40  1641.95  1594.40  1638.70\n",
              "2  2000-01-05  1634.55  1635.50  1555.05  1595.80\n",
              "3  2000-01-06  1595.80  1639.00  1595.80  1617.60\n",
              "4  2000-01-07  1616.60  1628.25  1597.20  1613.30\n",
              "5  2000-01-10  1615.65  1662.10  1614.95  1632.95\n",
              "6  2000-01-11  1633.25  1639.90  1548.25  1572.50\n",
              "7  2000-01-12  1572.30  1631.55  1571.70  1624.80\n",
              "8  2000-01-13  1627.85  1671.15  1613.65  1621.40\n",
              "9  2000-01-14  1622.15  1627.40  1591.40  1622.75"
            ]
          },
          "metadata": {
            "tags": []
          },
          "execution_count": 3
        }
      ]
    },
    {
      "cell_type": "code",
      "metadata": {
        "id": "EpAtGRiDg2CG"
      },
      "source": [
        ""
      ],
      "execution_count": 3,
      "outputs": []
    },
    {
      "cell_type": "markdown",
      "metadata": {
        "id": "rJrTpvXKJ0RU"
      },
      "source": [
        "##**EDA**"
      ]
    },
    {
      "cell_type": "code",
      "metadata": {
        "colab": {
          "base_uri": "https://localhost:8080/"
        },
        "id": "ohoacbwNICN9",
        "outputId": "91695cd4-9f2c-4891-c7ee-735512850da3"
      },
      "source": [
        "# exploring for NA values\n",
        "data_df.isna().sum()"
      ],
      "execution_count": 4,
      "outputs": [
        {
          "output_type": "execute_result",
          "data": {
            "text/plain": [
              "Date      0\n",
              "Open     35\n",
              "High     35\n",
              "Low      35\n",
              "Close    35\n",
              "dtype: int64"
            ]
          },
          "metadata": {
            "tags": []
          },
          "execution_count": 4
        }
      ]
    },
    {
      "cell_type": "markdown",
      "metadata": {
        "id": "W2CIlV5KIOX6"
      },
      "source": [
        "We can see that there are 35 values which are NA and all featuers have same na values that means market could be closed on that day, so it would be better to drop these na values"
      ]
    },
    {
      "cell_type": "code",
      "metadata": {
        "id": "V8FEvCWgGWM1"
      },
      "source": [
        "data_df.dropna(inplace=True)"
      ],
      "execution_count": 5,
      "outputs": []
    },
    {
      "cell_type": "code",
      "metadata": {
        "colab": {
          "base_uri": "https://localhost:8080/"
        },
        "id": "NyWZkgTYIsvc",
        "outputId": "35b68894-9dfb-41d2-a02c-44139332299f"
      },
      "source": [
        "data_df.isna().sum()"
      ],
      "execution_count": 6,
      "outputs": [
        {
          "output_type": "execute_result",
          "data": {
            "text/plain": [
              "Date     0\n",
              "Open     0\n",
              "High     0\n",
              "Low      0\n",
              "Close    0\n",
              "dtype: int64"
            ]
          },
          "metadata": {
            "tags": []
          },
          "execution_count": 6
        }
      ]
    },
    {
      "cell_type": "code",
      "metadata": {
        "colab": {
          "base_uri": "https://localhost:8080/"
        },
        "id": "gimLLhjNJMbV",
        "outputId": "bbb07021-3b96-4c0f-9e71-60a369260e07"
      },
      "source": [
        "data_df.info()"
      ],
      "execution_count": 7,
      "outputs": [
        {
          "output_type": "stream",
          "text": [
            "<class 'pandas.core.frame.DataFrame'>\n",
            "Int64Index: 5266 entries, 0 to 5300\n",
            "Data columns (total 5 columns):\n",
            " #   Column  Non-Null Count  Dtype  \n",
            "---  ------  --------------  -----  \n",
            " 0   Date    5266 non-null   object \n",
            " 1   Open    5266 non-null   float64\n",
            " 2   High    5266 non-null   float64\n",
            " 3   Low     5266 non-null   float64\n",
            " 4   Close   5266 non-null   float64\n",
            "dtypes: float64(4), object(1)\n",
            "memory usage: 246.8+ KB\n"
          ],
          "name": "stdout"
        }
      ]
    },
    {
      "cell_type": "code",
      "metadata": {
        "id": "9APYWfDdJd4s"
      },
      "source": [
        "#converting the date in Datetime type\n",
        "data_df['Date']= pd.to_datetime(data_df['Date'])"
      ],
      "execution_count": 8,
      "outputs": []
    },
    {
      "cell_type": "code",
      "metadata": {
        "colab": {
          "base_uri": "https://localhost:8080/",
          "height": 288
        },
        "id": "804k5pyS0OUy",
        "outputId": "5b335cab-0878-460e-93bd-76210d6ff0d6"
      },
      "source": [
        "data_df.describe()"
      ],
      "execution_count": 9,
      "outputs": [
        {
          "output_type": "execute_result",
          "data": {
            "text/html": [
              "<div>\n",
              "<style scoped>\n",
              "    .dataframe tbody tr th:only-of-type {\n",
              "        vertical-align: middle;\n",
              "    }\n",
              "\n",
              "    .dataframe tbody tr th {\n",
              "        vertical-align: top;\n",
              "    }\n",
              "\n",
              "    .dataframe thead th {\n",
              "        text-align: right;\n",
              "    }\n",
              "</style>\n",
              "<table border=\"1\" class=\"dataframe\">\n",
              "  <thead>\n",
              "    <tr style=\"text-align: right;\">\n",
              "      <th></th>\n",
              "      <th>Open</th>\n",
              "      <th>High</th>\n",
              "      <th>Low</th>\n",
              "      <th>Close</th>\n",
              "    </tr>\n",
              "  </thead>\n",
              "  <tbody>\n",
              "    <tr>\n",
              "      <th>count</th>\n",
              "      <td>5266.000000</td>\n",
              "      <td>5266.000000</td>\n",
              "      <td>5266.000000</td>\n",
              "      <td>5266.000000</td>\n",
              "    </tr>\n",
              "    <tr>\n",
              "      <th>mean</th>\n",
              "      <td>5551.787316</td>\n",
              "      <td>5588.846043</td>\n",
              "      <td>5506.832156</td>\n",
              "      <td>5548.545092</td>\n",
              "    </tr>\n",
              "    <tr>\n",
              "      <th>std</th>\n",
              "      <td>3582.719644</td>\n",
              "      <td>3594.485464</td>\n",
              "      <td>3561.245855</td>\n",
              "      <td>3578.111274</td>\n",
              "    </tr>\n",
              "    <tr>\n",
              "      <th>min</th>\n",
              "      <td>853.000000</td>\n",
              "      <td>877.000000</td>\n",
              "      <td>849.950000</td>\n",
              "      <td>854.200000</td>\n",
              "    </tr>\n",
              "    <tr>\n",
              "      <th>25%</th>\n",
              "      <td>2057.987500</td>\n",
              "      <td>2074.525000</td>\n",
              "      <td>2045.950000</td>\n",
              "      <td>2058.750000</td>\n",
              "    </tr>\n",
              "    <tr>\n",
              "      <th>50%</th>\n",
              "      <td>5213.675049</td>\n",
              "      <td>5252.199951</td>\n",
              "      <td>5163.449951</td>\n",
              "      <td>5211.025000</td>\n",
              "    </tr>\n",
              "    <tr>\n",
              "      <th>75%</th>\n",
              "      <td>8261.987305</td>\n",
              "      <td>8308.112793</td>\n",
              "      <td>8216.375244</td>\n",
              "      <td>8262.199707</td>\n",
              "    </tr>\n",
              "    <tr>\n",
              "      <th>max</th>\n",
              "      <td>15371.450195</td>\n",
              "      <td>15431.750000</td>\n",
              "      <td>15243.400391</td>\n",
              "      <td>15314.700195</td>\n",
              "    </tr>\n",
              "  </tbody>\n",
              "</table>\n",
              "</div>"
            ],
            "text/plain": [
              "               Open          High           Low         Close\n",
              "count   5266.000000   5266.000000   5266.000000   5266.000000\n",
              "mean    5551.787316   5588.846043   5506.832156   5548.545092\n",
              "std     3582.719644   3594.485464   3561.245855   3578.111274\n",
              "min      853.000000    877.000000    849.950000    854.200000\n",
              "25%     2057.987500   2074.525000   2045.950000   2058.750000\n",
              "50%     5213.675049   5252.199951   5163.449951   5211.025000\n",
              "75%     8261.987305   8308.112793   8216.375244   8262.199707\n",
              "max    15371.450195  15431.750000  15243.400391  15314.700195"
            ]
          },
          "metadata": {
            "tags": []
          },
          "execution_count": 9
        }
      ]
    },
    {
      "cell_type": "markdown",
      "metadata": {
        "id": "nEM2QHd10dc3"
      },
      "source": [
        "From describe we can see that all the data features are close to each other there is no difference in the values of these data\n",
        "\n",
        "* Mean and meadian of data of every feature is some what close to each other.\n",
        "* we can see that min value of these data start from $850$ and max value goes til\n",
        "$15370$ which mean that range of data points is quite high.\n",
        "* With the help of visualization graph we can see how in which year the values have gone high.\n"
      ]
    },
    {
      "cell_type": "markdown",
      "metadata": {
        "id": "tiFgeeGBKCYt"
      },
      "source": [
        "##**Data Visualization**"
      ]
    },
    {
      "cell_type": "markdown",
      "metadata": {
        "id": "GXw1-Tjd1-6H"
      },
      "source": [
        "Lets start by ploting a line plot for close price with respect to time "
      ]
    },
    {
      "cell_type": "code",
      "metadata": {
        "colab": {
          "base_uri": "https://localhost:8080/",
          "height": 493
        },
        "id": "gMGn89PVKBjw",
        "outputId": "9013585b-92cf-4ad0-a3ce-ec433cc2e407"
      },
      "source": [
        "plt.figure(figsize=(20,8))\n",
        "sns.lineplot(x='Date',y='Close',data= data_df)\n",
        "\n"
      ],
      "execution_count": 10,
      "outputs": [
        {
          "output_type": "execute_result",
          "data": {
            "text/plain": [
              "<matplotlib.axes._subplots.AxesSubplot at 0x7fe3b7734090>"
            ]
          },
          "metadata": {
            "tags": []
          },
          "execution_count": 10
        },
        {
          "output_type": "display_data",
          "data": {
            "image/png": "[encoded data removed]",
            "text/plain": [
              "<Figure size 1440x576 with 1 Axes>"
            ]
          },
          "metadata": {
            "tags": [],
            "needs_background": "light"
          }
        }
      ]
    },
    {
      "cell_type": "markdown",
      "metadata": {
        "id": "cEkRbxGMVLTm"
      },
      "source": [
        "BY looking at the line plot we can understand the **over all Trend** is **increasing** , As we  can see that in year 2000 close price started by close to 1600\n",
        "\n",
        "In 2002 we recorded lowest close price for Nifty50\n",
        "\n",
        "We can see increase and decrease in the close price as we move in time to 2021 but we cant see any **seasonality** so far in the plot.\n",
        "\n",
        "In this plot we can see there are two places where the stock price droped drastically.\n",
        "* we can see drastic drop in price in near near to 2008 that is cause by global regression of 2008\n",
        "* Second drastic drop can be seen in 2020 due to lockdown which was implemented in the country.\n",
        "* we can also witness exponential growth in the stocks price as the lockdown ended.\n",
        "\n",
        "Apart from these time we dont see any significant drop or growth in stock price but **overall trend is Increasing**"
      ]
    },
    {
      "cell_type": "markdown",
      "metadata": {
        "id": "c4OFV9Qc46FR"
      },
      "source": [
        "Lets see how other feature such as opening, high, low have changed with respecct to time\n",
        " "
      ]
    },
    {
      "cell_type": "code",
      "metadata": {
        "colab": {
          "base_uri": "https://localhost:8080/",
          "height": 487
        },
        "id": "CVM4-h8dJGa2",
        "outputId": "30e7c6e3-5ed7-4610-f30e-4c50fa8a5a28"
      },
      "source": [
        "l= ['High',\"Low\",'Open']\n",
        "plt.figure(figsize=(20,8))\n",
        "for i in l:\n",
        "  sns.lineplot(x='Date',y=i,data=data_df,label = i)\n",
        "  title = 'Line plot of '+ i\n",
        "  plt.title(title)\n",
        "  "
      ],
      "execution_count": 11,
      "outputs": [
        {
          "output_type": "display_data",
          "data": {
            "image/png": "[encoded data removed]",
            "text/plain": [
              "<Figure size 1440x576 with 1 Axes>"
            ]
          },
          "metadata": {
            "tags": [],
            "needs_background": "light"
          }
        }
      ]
    },
    {
      "cell_type": "markdown",
      "metadata": {
        "id": "2dKC4LQr61LH"
      },
      "source": [
        "From above graph we can conclude that there is only minute difference in the features as the most of the values are overlapping with each other."
      ]
    },
    {
      "cell_type": "markdown",
      "metadata": {
        "id": "G0k8LV3i8FO_"
      },
      "source": [
        "Lets see if histogram will give any information of the data\n"
      ]
    },
    {
      "cell_type": "code",
      "metadata": {
        "colab": {
          "base_uri": "https://localhost:8080/",
          "height": 283
        },
        "id": "DCChBEB-6KcC",
        "outputId": "153e43a7-8b61-4921-cbf2-bc3824cf8f21"
      },
      "source": [
        "data_df['Close'].hist()"
      ],
      "execution_count": 12,
      "outputs": [
        {
          "output_type": "execute_result",
          "data": {
            "text/plain": [
              "<matplotlib.axes._subplots.AxesSubplot at 0x7fe3a0aa7610>"
            ]
          },
          "metadata": {
            "tags": []
          },
          "execution_count": 12
        },
        {
          "output_type": "display_data",
          "data": {
            "image/png": "[encoded data removed]",
            "text/plain": [
              "<Figure size 432x288 with 1 Axes>"
            ]
          },
          "metadata": {
            "tags": [],
            "needs_background": "light"
          }
        }
      ]
    },
    {
      "cell_type": "markdown",
      "metadata": {
        "id": "NbBd4R7i8WEX"
      },
      "source": [
        "By histrogram we can see that most the days have closing price close to 2000 that is visible by line plot also as in intial years till 2006 we ccan see that stock price was close to 2000 only and it was after 2006 we see growth in stock price"
      ]
    },
    {
      "cell_type": "markdown",
      "metadata": {
        "id": "k5-I11guMfGU"
      },
      "source": [
        ""
      ]
    },
    {
      "cell_type": "code",
      "metadata": {
        "id": "GWwGGafCqawE"
      },
      "source": [
        "# data_df.drop(['CLose'],axis=1,inplace=True)"
      ],
      "execution_count": 13,
      "outputs": []
    },
    {
      "cell_type": "code",
      "metadata": {
        "id": "bE_ae5kOqmnq"
      },
      "source": [
        "data_df.set_index([\"Date\"],inplace =True)"
      ],
      "execution_count": 14,
      "outputs": []
    },
    {
      "cell_type": "markdown",
      "metadata": {
        "id": "-Dry65Cslcz0"
      },
      "source": [
        "checking for trend and seationality\n"
      ]
    },
    {
      "cell_type": "code",
      "metadata": {
        "colab": {
          "base_uri": "https://localhost:8080/",
          "height": 354
        },
        "id": "v4LxsNY-lkMs",
        "outputId": "0db5e281-6934-427d-872d-e36c8060df20"
      },
      "source": [
        "from statsmodels.tsa.seasonal import seasonal_decompose\n",
        "# series = data_df['Close']\n",
        "result = seasonal_decompose(data_df['Close'], model='additive',freq=1)\n",
        "result.plot()\n",
        "plt.show()"
      ],
      "execution_count": 15,
      "outputs": [
        {
          "output_type": "stream",
          "text": [
            "/usr/local/lib/python3.7/dist-packages/statsmodels/tools/_testing.py:19: FutureWarning: pandas.util.testing is deprecated. Use the functions in the public API at pandas.testing instead.\n",
            "  import pandas.util.testing as tm\n"
          ],
          "name": "stderr"
        },
        {
          "output_type": "display_data",
          "data": {
            "image/png": "[encoded data removed]",
            "text/plain": [
              "<Figure size 432x288 with 4 Axes>"
            ]
          },
          "metadata": {
            "tags": [],
            "needs_background": "light"
          }
        }
      ]
    },
    {
      "cell_type": "markdown",
      "metadata": {
        "id": "C7DzInwiJDHc"
      },
      "source": [
        "### **cheacking Randomness of data**\n",
        "Checking for randomness of data present in close price\n",
        "\n",
        "As building a forcasting model on random time series is not possible"
      ]
    },
    {
      "cell_type": "code",
      "metadata": {
        "id": "C0YAt4mwIffU"
      },
      "source": [
        "#lag plot for finding random in timeseries in data\n",
        "from pandas.plotting import lag_plot"
      ],
      "execution_count": 16,
      "outputs": []
    },
    {
      "cell_type": "code",
      "metadata": {
        "colab": {
          "base_uri": "https://localhost:8080/",
          "height": 0
        },
        "id": "Sq5saPtsJoqv",
        "outputId": "dad325bf-927b-4db4-f9a4-6c1a6b3dbb74"
      },
      "source": [
        "lag_plot(data_df['Close'])"
      ],
      "execution_count": 17,
      "outputs": [
        {
          "output_type": "execute_result",
          "data": {
            "text/plain": [
              "<matplotlib.axes._subplots.AxesSubplot at 0x7fe396ca6590>"
            ]
          },
          "metadata": {
            "tags": []
          },
          "execution_count": 17
        },
        {
          "output_type": "display_data",
          "data": {
            "image/png": "[encoded data removed]",
            "text/plain": [
              "<Figure size 432x288 with 1 Axes>"
            ]
          },
          "metadata": {
            "tags": [],
            "needs_background": "light"
          }
        }
      ]
    },
    {
      "cell_type": "markdown",
      "metadata": {
        "id": "ZehXartiJ1fV"
      },
      "source": [
        "so by above graph we can see that current value and previous value is linearly related so we can say that data is non- random and we can apply forcasting model on this"
      ]
    },
    {
      "cell_type": "markdown",
      "metadata": {
        "id": "cdQgWqXoHNha"
      },
      "source": [
        "##**Stationary**\n",
        "\n",
        "Checking of the dependend data is statinary or non-stationary with tyhe help of adfuller "
      ]
    },
    {
      "cell_type": "code",
      "metadata": {
        "id": "lZAe6v3N75h7"
      },
      "source": [
        "from statsmodels.tsa.stattools import adfuller"
      ],
      "execution_count": 18,
      "outputs": []
    },
    {
      "cell_type": "code",
      "metadata": {
        "id": "LJGgbI95HsnV"
      },
      "source": [
        "def adfuller_test(sales):\n",
        "  result=adfuller(sales)\n",
        "  labels = ['ADF Test Statistic','p-value','#Lags Used','Number of Observations']\n",
        "  for value,label in zip(result,labels):\n",
        "      print(label+' : '+str(value) )\n",
        "\n",
        "  if result[1] <= 0.05:\n",
        "      print(\"strong evidence against the null hypothesis(Ho), reject the null hypothesis. Data is stationary\")\n",
        "  else:\n",
        "      print(\"weak evidence against null hypothesis,indicating it is non-stationary \")\n"
      ],
      "execution_count": 19,
      "outputs": []
    },
    {
      "cell_type": "code",
      "metadata": {
        "colab": {
          "base_uri": "https://localhost:8080/"
        },
        "id": "3jyg4i5wIH5b",
        "outputId": "2928e662-16cf-4ef2-e4f1-75dfdbde4381"
      },
      "source": [
        "adfuller_test(data_df['Close'])"
      ],
      "execution_count": 20,
      "outputs": [
        {
          "output_type": "stream",
          "text": [
            "ADF Test Statistic : 0.7938385840940094\n",
            "p-value : 0.9915360574288862\n",
            "#Lags Used : 29\n",
            "Number of Observations : 5236\n",
            "weak evidence against null hypothesis,indicating it is non-stationary \n"
          ],
          "name": "stdout"
        }
      ]
    },
    {
      "cell_type": "markdown",
      "metadata": {
        "id": "Qq_dSJOkxIsD"
      },
      "source": [
        "lets do shift of data and then find the adfuller values"
      ]
    },
    {
      "cell_type": "markdown",
      "metadata": {
        "id": "5BtLLKET3JJZ"
      },
      "source": [
        "lets see auto corelation and partial auto corelation"
      ]
    },
    {
      "cell_type": "code",
      "metadata": {
        "colab": {
          "base_uri": "https://localhost:8080/",
          "height": 0
        },
        "id": "ekwfJaRa3W57",
        "outputId": "f5fd0ae0-35cd-454f-c325-4e910a1312fb"
      },
      "source": [
        "from statsmodels.graphics.tsaplots import plot_acf,plot_pacf\n",
        "import statsmodels.api as sm\n",
        "fig = plt.figure(figsize=(12,8))\n",
        "ax1 = fig.add_subplot(211)\n",
        "fig = sm.graphics.tsa.plot_acf(data_df['Close'].dropna(),lags=40,ax=ax1)\n",
        "ax2 = fig.add_subplot(212)\n",
        "fig = sm.graphics.tsa.plot_pacf(data_df['Close'].dropna(),lags=40,ax=ax2)\n"
      ],
      "execution_count": 21,
      "outputs": [
        {
          "output_type": "display_data",
          "data": {
            "image/png": "[encoded data removed]",
            "text/plain": [
              "<Figure size 864x576 with 2 Axes>"
            ]
          },
          "metadata": {
            "tags": [],
            "needs_background": "light"
          }
        }
      ]
    },
    {
      "cell_type": "code",
      "metadata": {
        "id": "WqkFkZ9_3WbD"
      },
      "source": [
        ""
      ],
      "execution_count": 21,
      "outputs": []
    },
    {
      "cell_type": "code",
      "metadata": {
        "id": "2jId81kixRH5"
      },
      "source": [
        "data_df['Close First Difference'] = data_df['Close'] - data_df['Close'].shift(1)"
      ],
      "execution_count": 22,
      "outputs": []
    },
    {
      "cell_type": "code",
      "metadata": {
        "colab": {
          "base_uri": "https://localhost:8080/",
          "height": 0
        },
        "id": "weXteA3AxcR7",
        "outputId": "4dc1c234-e7ce-4479-c610-569449d3e904"
      },
      "source": [
        "data_df"
      ],
      "execution_count": 23,
      "outputs": [
        {
          "output_type": "execute_result",
          "data": {
            "text/html": [
              "<div>\n",
              "<style scoped>\n",
              "    .dataframe tbody tr th:only-of-type {\n",
              "        vertical-align: middle;\n",
              "    }\n",
              "\n",
              "    .dataframe tbody tr th {\n",
              "        vertical-align: top;\n",
              "    }\n",
              "\n",
              "    .dataframe thead th {\n",
              "        text-align: right;\n",
              "    }\n",
              "</style>\n",
              "<table border=\"1\" class=\"dataframe\">\n",
              "  <thead>\n",
              "    <tr style=\"text-align: right;\">\n",
              "      <th></th>\n",
              "      <th>Open</th>\n",
              "      <th>High</th>\n",
              "      <th>Low</th>\n",
              "      <th>Close</th>\n",
              "      <th>Close First Difference</th>\n",
              "    </tr>\n",
              "    <tr>\n",
              "      <th>Date</th>\n",
              "      <th></th>\n",
              "      <th></th>\n",
              "      <th></th>\n",
              "      <th></th>\n",
              "      <th></th>\n",
              "    </tr>\n",
              "  </thead>\n",
              "  <tbody>\n",
              "    <tr>\n",
              "      <th>2000-01-03</th>\n",
              "      <td>1482.150000</td>\n",
              "      <td>1592.900000</td>\n",
              "      <td>1482.150000</td>\n",
              "      <td>1592.200000</td>\n",
              "      <td>NaN</td>\n",
              "    </tr>\n",
              "    <tr>\n",
              "      <th>2000-01-04</th>\n",
              "      <td>1594.400000</td>\n",
              "      <td>1641.950000</td>\n",
              "      <td>1594.400000</td>\n",
              "      <td>1638.700000</td>\n",
              "      <td>46.500000</td>\n",
              "    </tr>\n",
              "    <tr>\n",
              "      <th>2000-01-05</th>\n",
              "      <td>1634.550000</td>\n",
              "      <td>1635.500000</td>\n",
              "      <td>1555.050000</td>\n",
              "      <td>1595.800000</td>\n",
              "      <td>-42.900000</td>\n",
              "    </tr>\n",
              "    <tr>\n",
              "      <th>2000-01-06</th>\n",
              "      <td>1595.800000</td>\n",
              "      <td>1639.000000</td>\n",
              "      <td>1595.800000</td>\n",
              "      <td>1617.600000</td>\n",
              "      <td>21.800000</td>\n",
              "    </tr>\n",
              "    <tr>\n",
              "      <th>2000-01-07</th>\n",
              "      <td>1616.600000</td>\n",
              "      <td>1628.250000</td>\n",
              "      <td>1597.200000</td>\n",
              "      <td>1613.300000</td>\n",
              "      <td>-4.300000</td>\n",
              "    </tr>\n",
              "    <tr>\n",
              "      <th>...</th>\n",
              "      <td>...</td>\n",
              "      <td>...</td>\n",
              "      <td>...</td>\n",
              "      <td>...</td>\n",
              "      <td>...</td>\n",
              "    </tr>\n",
              "    <tr>\n",
              "      <th>2021-05-04</th>\n",
              "      <td>14687.250000</td>\n",
              "      <td>14723.400391</td>\n",
              "      <td>14461.500000</td>\n",
              "      <td>14496.500000</td>\n",
              "      <td>-137.650391</td>\n",
              "    </tr>\n",
              "    <tr>\n",
              "      <th>2021-05-05</th>\n",
              "      <td>14604.150391</td>\n",
              "      <td>14637.900391</td>\n",
              "      <td>14506.599609</td>\n",
              "      <td>14617.849609</td>\n",
              "      <td>121.349609</td>\n",
              "    </tr>\n",
              "    <tr>\n",
              "      <th>2021-05-06</th>\n",
              "      <td>14668.349609</td>\n",
              "      <td>14743.900391</td>\n",
              "      <td>14611.500000</td>\n",
              "      <td>14724.799805</td>\n",
              "      <td>106.950196</td>\n",
              "    </tr>\n",
              "    <tr>\n",
              "      <th>2021-05-07</th>\n",
              "      <td>14816.849609</td>\n",
              "      <td>14863.049805</td>\n",
              "      <td>14765.500000</td>\n",
              "      <td>14823.150391</td>\n",
              "      <td>98.350586</td>\n",
              "    </tr>\n",
              "    <tr>\n",
              "      <th>2021-05-10</th>\n",
              "      <td>14928.250000</td>\n",
              "      <td>14966.900391</td>\n",
              "      <td>14892.500000</td>\n",
              "      <td>14942.349609</td>\n",
              "      <td>119.199218</td>\n",
              "    </tr>\n",
              "  </tbody>\n",
              "</table>\n",
              "<p>5266 rows × 5 columns</p>\n",
              "</div>"
            ],
            "text/plain": [
              "                    Open          High  ...         Close  Close First Difference\n",
              "Date                                    ...                                      \n",
              "2000-01-03   1482.150000   1592.900000  ...   1592.200000                     NaN\n",
              "2000-01-04   1594.400000   1641.950000  ...   1638.700000               46.500000\n",
              "2000-01-05   1634.550000   1635.500000  ...   1595.800000              -42.900000\n",
              "2000-01-06   1595.800000   1639.000000  ...   1617.600000               21.800000\n",
              "2000-01-07   1616.600000   1628.250000  ...   1613.300000               -4.300000\n",
              "...                  ...           ...  ...           ...                     ...\n",
              "2021-05-04  14687.250000  14723.400391  ...  14496.500000             -137.650391\n",
              "2021-05-05  14604.150391  14637.900391  ...  14617.849609              121.349609\n",
              "2021-05-06  14668.349609  14743.900391  ...  14724.799805              106.950196\n",
              "2021-05-07  14816.849609  14863.049805  ...  14823.150391               98.350586\n",
              "2021-05-10  14928.250000  14966.900391  ...  14942.349609              119.199218\n",
              "\n",
              "[5266 rows x 5 columns]"
            ]
          },
          "metadata": {
            "tags": []
          },
          "execution_count": 23
        }
      ]
    },
    {
      "cell_type": "code",
      "metadata": {
        "colab": {
          "base_uri": "https://localhost:8080/"
        },
        "id": "4uyDo5eYxeeA",
        "outputId": "bc20b6bf-1116-4286-f34d-3d94e3120ccb"
      },
      "source": [
        "adfuller_test(data_df['Close First Difference'].dropna())"
      ],
      "execution_count": 24,
      "outputs": [
        {
          "output_type": "stream",
          "text": [
            "ADF Test Statistic : -13.208863127403244\n",
            "p-value : 1.0570660730866936e-24\n",
            "#Lags Used : 28\n",
            "Number of Observations : 5236\n",
            "strong evidence against the null hypothesis(Ho), reject the null hypothesis. Data is stationary\n"
          ],
          "name": "stdout"
        }
      ]
    },
    {
      "cell_type": "markdown",
      "metadata": {
        "id": "klFzrePa3qRN"
      },
      "source": [
        "Autocorelation and partial auto corelation"
      ]
    },
    {
      "cell_type": "code",
      "metadata": {
        "colab": {
          "base_uri": "https://localhost:8080/",
          "height": 0
        },
        "id": "_E7r9xd5xmRJ",
        "outputId": "5133f1b7-d33b-4fea-9c2c-23cca39fa7ed"
      },
      "source": [
        "from statsmodels.graphics.tsaplots import plot_acf,plot_pacf\n",
        "import statsmodels.api as sm\n",
        "fig = plt.figure(figsize=(12,8))\n",
        "ax1 = fig.add_subplot(211)\n",
        "fig = sm.graphics.tsa.plot_acf(data_df['Close First Difference'].dropna(),lags=40,ax=ax1)\n",
        "ax2 = fig.add_subplot(212)\n",
        "fig = sm.graphics.tsa.plot_pacf(data_df['Close First Difference'].dropna(),lags=40,ax=ax2)\n"
      ],
      "execution_count": 25,
      "outputs": [
        {
          "output_type": "display_data",
          "data": {
            "image/png": "[encoded data removed]",
            "text/plain": [
              "<Figure size 864x576 with 2 Axes>"
            ]
          },
          "metadata": {
            "tags": [],
            "needs_background": "light"
          }
        }
      ]
    },
    {
      "cell_type": "markdown",
      "metadata": {
        "id": "v1DQJTW74CFa"
      },
      "source": [
        "Lets apply ARIMA model on this data frame and see how in works"
      ]
    },
    {
      "cell_type": "code",
      "metadata": {
        "colab": {
          "base_uri": "https://localhost:8080/",
          "height": 0
        },
        "id": "NJLRCGs738PQ",
        "outputId": "368e4e87-f9ed-46da-9158-ca60752063f9"
      },
      "source": [
        "#p=1,q=1,i=1\n",
        "from statsmodels.tsa.arima_model import ARIMA\n",
        "model=ARIMA(data_df['Close'],order=(1,1,1))\n",
        "model_fit=model.fit()\n",
        "model_fit.summary()"
      ],
      "execution_count": 26,
      "outputs": [
        {
          "output_type": "stream",
          "text": [
            "/usr/local/lib/python3.7/dist-packages/statsmodels/tsa/base/tsa_model.py:219: ValueWarning: A date index has been provided, but it has no associated frequency information and so will be ignored when e.g. forecasting.\n",
            "  ' ignored when e.g. forecasting.', ValueWarning)\n",
            "/usr/local/lib/python3.7/dist-packages/statsmodels/tsa/base/tsa_model.py:219: ValueWarning: A date index has been provided, but it has no associated frequency information and so will be ignored when e.g. forecasting.\n",
            "  ' ignored when e.g. forecasting.', ValueWarning)\n"
          ],
          "name": "stderr"
        },
        {
          "output_type": "execute_result",
          "data": {
            "text/html": [
              "<table class=\"simpletable\">\n",
              "<caption>ARIMA Model Results</caption>\n",
              "<tr>\n",
              "  <th>Dep. Variable:</th>      <td>D.Close</td>     <th>  No. Observations:  </th>    <td>5265</td>   \n",
              "</tr>\n",
              "<tr>\n",
              "  <th>Model:</th>          <td>ARIMA(1, 1, 1)</td>  <th>  Log Likelihood     </th> <td>-30450.305</td>\n",
              "</tr>\n",
              "<tr>\n",
              "  <th>Method:</th>             <td>css-mle</td>     <th>  S.D. of innovations</th>   <td>78.618</td>  \n",
              "</tr>\n",
              "<tr>\n",
              "  <th>Date:</th>          <td>Fri, 14 May 2021</td> <th>  AIC                </th>  <td>60908.609</td>\n",
              "</tr>\n",
              "<tr>\n",
              "  <th>Time:</th>              <td>16:25:55</td>     <th>  BIC                </th>  <td>60934.884</td>\n",
              "</tr>\n",
              "<tr>\n",
              "  <th>Sample:</th>                <td>1</td>        <th>  HQIC               </th>  <td>60917.794</td>\n",
              "</tr>\n",
              "<tr>\n",
              "  <th></th>                       <td> </td>        <th>                     </th>      <td> </td>    \n",
              "</tr>\n",
              "</table>\n",
              "<table class=\"simpletable\">\n",
              "<tr>\n",
              "        <td></td>           <th>coef</th>     <th>std err</th>      <th>z</th>      <th>P>|z|</th>  <th>[0.025</th>    <th>0.975]</th>  \n",
              "</tr>\n",
              "<tr>\n",
              "  <th>const</th>         <td>    2.5355</td> <td>    1.095</td> <td>    2.316</td> <td> 0.021</td> <td>    0.390</td> <td>    4.681</td>\n",
              "</tr>\n",
              "<tr>\n",
              "  <th>ar.L1.D.Close</th> <td>   -0.8483</td> <td>    0.058</td> <td>  -14.558</td> <td> 0.000</td> <td>   -0.962</td> <td>   -0.734</td>\n",
              "</tr>\n",
              "<tr>\n",
              "  <th>ma.L1.D.Close</th> <td>    0.8677</td> <td>    0.054</td> <td>   15.944</td> <td> 0.000</td> <td>    0.761</td> <td>    0.974</td>\n",
              "</tr>\n",
              "</table>\n",
              "<table class=\"simpletable\">\n",
              "<caption>Roots</caption>\n",
              "<tr>\n",
              "    <td></td>   <th>            Real</th>  <th>         Imaginary</th> <th>         Modulus</th>  <th>        Frequency</th>\n",
              "</tr>\n",
              "<tr>\n",
              "  <th>AR.1</th> <td>          -1.1789</td> <td>          +0.0000j</td> <td>           1.1789</td> <td>           0.5000</td>\n",
              "</tr>\n",
              "<tr>\n",
              "  <th>MA.1</th> <td>          -1.1525</td> <td>          +0.0000j</td> <td>           1.1525</td> <td>           0.5000</td>\n",
              "</tr>\n",
              "</table>"
            ],
            "text/plain": [
              "<class 'statsmodels.iolib.summary.Summary'>\n",
              "\"\"\"\n",
              "                             ARIMA Model Results                              \n",
              "==============================================================================\n",
              "Dep. Variable:                D.Close   No. Observations:                 5265\n",
              "Model:                 ARIMA(1, 1, 1)   Log Likelihood              -30450.305\n",
              "Method:                       css-mle   S.D. of innovations             78.618\n",
              "Date:                Fri, 14 May 2021   AIC                          60908.609\n",
              "Time:                        16:25:55   BIC                          60934.884\n",
              "Sample:                             1   HQIC                         60917.794\n",
              "                                                                              \n",
              "=================================================================================\n",
              "                    coef    std err          z      P>|z|      [0.025      0.975]\n",
              "---------------------------------------------------------------------------------\n",
              "const             2.5355      1.095      2.316      0.021       0.390       4.681\n",
              "ar.L1.D.Close    -0.8483      0.058    -14.558      0.000      -0.962      -0.734\n",
              "ma.L1.D.Close     0.8677      0.054     15.944      0.000       0.761       0.974\n",
              "                                    Roots                                    \n",
              "=============================================================================\n",
              "                  Real          Imaginary           Modulus         Frequency\n",
              "-----------------------------------------------------------------------------\n",
              "AR.1           -1.1789           +0.0000j            1.1789            0.5000\n",
              "MA.1           -1.1525           +0.0000j            1.1525            0.5000\n",
              "-----------------------------------------------------------------------------\n",
              "\"\"\""
            ]
          },
          "metadata": {
            "tags": []
          },
          "execution_count": 26
        }
      ]
    },
    {
      "cell_type": "code",
      "metadata": {
        "colab": {
          "base_uri": "https://localhost:8080/",
          "height": 0
        },
        "id": "ajrgxAx6ZY7M",
        "outputId": "f175d2ea-9f56-4418-cb7d-db3dd2ef4eba"
      },
      "source": [
        "data_df.tail()"
      ],
      "execution_count": 27,
      "outputs": [
        {
          "output_type": "execute_result",
          "data": {
            "text/html": [
              "<div>\n",
              "<style scoped>\n",
              "    .dataframe tbody tr th:only-of-type {\n",
              "        vertical-align: middle;\n",
              "    }\n",
              "\n",
              "    .dataframe tbody tr th {\n",
              "        vertical-align: top;\n",
              "    }\n",
              "\n",
              "    .dataframe thead th {\n",
              "        text-align: right;\n",
              "    }\n",
              "</style>\n",
              "<table border=\"1\" class=\"dataframe\">\n",
              "  <thead>\n",
              "    <tr style=\"text-align: right;\">\n",
              "      <th></th>\n",
              "      <th>Open</th>\n",
              "      <th>High</th>\n",
              "      <th>Low</th>\n",
              "      <th>Close</th>\n",
              "      <th>Close First Difference</th>\n",
              "    </tr>\n",
              "    <tr>\n",
              "      <th>Date</th>\n",
              "      <th></th>\n",
              "      <th></th>\n",
              "      <th></th>\n",
              "      <th></th>\n",
              "      <th></th>\n",
              "    </tr>\n",
              "  </thead>\n",
              "  <tbody>\n",
              "    <tr>\n",
              "      <th>2021-05-04</th>\n",
              "      <td>14687.250000</td>\n",
              "      <td>14723.400391</td>\n",
              "      <td>14461.500000</td>\n",
              "      <td>14496.500000</td>\n",
              "      <td>-137.650391</td>\n",
              "    </tr>\n",
              "    <tr>\n",
              "      <th>2021-05-05</th>\n",
              "      <td>14604.150391</td>\n",
              "      <td>14637.900391</td>\n",
              "      <td>14506.599609</td>\n",
              "      <td>14617.849609</td>\n",
              "      <td>121.349609</td>\n",
              "    </tr>\n",
              "    <tr>\n",
              "      <th>2021-05-06</th>\n",
              "      <td>14668.349609</td>\n",
              "      <td>14743.900391</td>\n",
              "      <td>14611.500000</td>\n",
              "      <td>14724.799805</td>\n",
              "      <td>106.950196</td>\n",
              "    </tr>\n",
              "    <tr>\n",
              "      <th>2021-05-07</th>\n",
              "      <td>14816.849609</td>\n",
              "      <td>14863.049805</td>\n",
              "      <td>14765.500000</td>\n",
              "      <td>14823.150391</td>\n",
              "      <td>98.350586</td>\n",
              "    </tr>\n",
              "    <tr>\n",
              "      <th>2021-05-10</th>\n",
              "      <td>14928.250000</td>\n",
              "      <td>14966.900391</td>\n",
              "      <td>14892.500000</td>\n",
              "      <td>14942.349609</td>\n",
              "      <td>119.199218</td>\n",
              "    </tr>\n",
              "  </tbody>\n",
              "</table>\n",
              "</div>"
            ],
            "text/plain": [
              "                    Open          High  ...         Close  Close First Difference\n",
              "Date                                    ...                                      \n",
              "2021-05-04  14687.250000  14723.400391  ...  14496.500000             -137.650391\n",
              "2021-05-05  14604.150391  14637.900391  ...  14617.849609              121.349609\n",
              "2021-05-06  14668.349609  14743.900391  ...  14724.799805              106.950196\n",
              "2021-05-07  14816.849609  14863.049805  ...  14823.150391               98.350586\n",
              "2021-05-10  14928.250000  14966.900391  ...  14942.349609              119.199218\n",
              "\n",
              "[5 rows x 5 columns]"
            ]
          },
          "metadata": {
            "tags": []
          },
          "execution_count": 27
        }
      ]
    },
    {
      "cell_type": "code",
      "metadata": {
        "colab": {
          "base_uri": "https://localhost:8080/",
          "height": 0
        },
        "id": "eY1e_1wVYAbP",
        "outputId": "2c0807c2-5e6b-45d1-c088-e4eca419a9b0"
      },
      "source": [
        "data_df['forecast']=model_fit.predict(start=3200,end=5300,dynamic=True)\n",
        "data_df[['Close','forecast']].plot(figsize=(12,8))"
      ],
      "execution_count": 28,
      "outputs": [
        {
          "output_type": "stream",
          "text": [
            "/usr/local/lib/python3.7/dist-packages/statsmodels/tsa/base/tsa_model.py:576: ValueWarning: No supported index is available. Prediction results will be given with an integer index beginning at `start`.\n",
            "  ValueWarning)\n"
          ],
          "name": "stderr"
        },
        {
          "output_type": "execute_result",
          "data": {
            "text/plain": [
              "<matplotlib.axes._subplots.AxesSubplot at 0x7fe39f5b1590>"
            ]
          },
          "metadata": {
            "tags": []
          },
          "execution_count": 28
        },
        {
          "output_type": "display_data",
          "data": {
            "image/png": "[encoded data removed]",
            "text/plain": [
              "<Figure size 864x576 with 1 Axes>"
            ]
          },
          "metadata": {
            "tags": [],
            "needs_background": "light"
          }
        }
      ]
    },
    {
      "cell_type": "markdown",
      "metadata": {
        "id": "WGqj1jAeHgFt"
      },
      "source": [
        "## Classification problem"
      ]
    },
    {
      "cell_type": "markdown",
      "metadata": {
        "id": "gNCrxy7CG1NY"
      },
      "source": [
        "Lets try to solve this problem as classification problem\n",
        "\n",
        "we can approach this problem by creating a binary target variable which we let us wheather your current day closing price is higher or lower than previous day closing price "
      ]
    },
    {
      "cell_type": "markdown",
      "metadata": {
        "id": "4b3WEB0vG1Hi"
      },
      "source": [
        ""
      ]
    },
    {
      "cell_type": "code",
      "metadata": {
        "id": "_PADF_lKI8eJ"
      },
      "source": [
        "data_df.loc[(data_df['Close']-data_df['Close'].shift(1)) < 0,'Target']=1\n",
        "data_df.loc[(data_df['Close']-data_df['Close'].shift(1)) >= 0,'Target']=0"
      ],
      "execution_count": 29,
      "outputs": []
    },
    {
      "cell_type": "code",
      "metadata": {
        "colab": {
          "base_uri": "https://localhost:8080/",
          "height": 437
        },
        "id": "dOXSmMoOHzdS",
        "outputId": "13596ac2-df3b-4836-ef77-73cb78c64e1f"
      },
      "source": [
        "data_df"
      ],
      "execution_count": 30,
      "outputs": [
        {
          "output_type": "execute_result",
          "data": {
            "text/html": [
              "<div>\n",
              "<style scoped>\n",
              "    .dataframe tbody tr th:only-of-type {\n",
              "        vertical-align: middle;\n",
              "    }\n",
              "\n",
              "    .dataframe tbody tr th {\n",
              "        vertical-align: top;\n",
              "    }\n",
              "\n",
              "    .dataframe thead th {\n",
              "        text-align: right;\n",
              "    }\n",
              "</style>\n",
              "<table border=\"1\" class=\"dataframe\">\n",
              "  <thead>\n",
              "    <tr style=\"text-align: right;\">\n",
              "      <th></th>\n",
              "      <th>Open</th>\n",
              "      <th>High</th>\n",
              "      <th>Low</th>\n",
              "      <th>Close</th>\n",
              "      <th>Close First Difference</th>\n",
              "      <th>forecast</th>\n",
              "      <th>Target</th>\n",
              "    </tr>\n",
              "    <tr>\n",
              "      <th>Date</th>\n",
              "      <th></th>\n",
              "      <th></th>\n",
              "      <th></th>\n",
              "      <th></th>\n",
              "      <th></th>\n",
              "      <th></th>\n",
              "      <th></th>\n",
              "    </tr>\n",
              "  </thead>\n",
              "  <tbody>\n",
              "    <tr>\n",
              "      <th>2000-01-03</th>\n",
              "      <td>1482.150000</td>\n",
              "      <td>1592.900000</td>\n",
              "      <td>1482.150000</td>\n",
              "      <td>1592.200000</td>\n",
              "      <td>NaN</td>\n",
              "      <td>NaN</td>\n",
              "      <td>NaN</td>\n",
              "    </tr>\n",
              "    <tr>\n",
              "      <th>2000-01-04</th>\n",
              "      <td>1594.400000</td>\n",
              "      <td>1641.950000</td>\n",
              "      <td>1594.400000</td>\n",
              "      <td>1638.700000</td>\n",
              "      <td>46.500000</td>\n",
              "      <td>NaN</td>\n",
              "      <td>0.0</td>\n",
              "    </tr>\n",
              "    <tr>\n",
              "      <th>2000-01-05</th>\n",
              "      <td>1634.550000</td>\n",
              "      <td>1635.500000</td>\n",
              "      <td>1555.050000</td>\n",
              "      <td>1595.800000</td>\n",
              "      <td>-42.900000</td>\n",
              "      <td>NaN</td>\n",
              "      <td>1.0</td>\n",
              "    </tr>\n",
              "    <tr>\n",
              "      <th>2000-01-06</th>\n",
              "      <td>1595.800000</td>\n",
              "      <td>1639.000000</td>\n",
              "      <td>1595.800000</td>\n",
              "      <td>1617.600000</td>\n",
              "      <td>21.800000</td>\n",
              "      <td>NaN</td>\n",
              "      <td>0.0</td>\n",
              "    </tr>\n",
              "    <tr>\n",
              "      <th>2000-01-07</th>\n",
              "      <td>1616.600000</td>\n",
              "      <td>1628.250000</td>\n",
              "      <td>1597.200000</td>\n",
              "      <td>1613.300000</td>\n",
              "      <td>-4.300000</td>\n",
              "      <td>NaN</td>\n",
              "      <td>1.0</td>\n",
              "    </tr>\n",
              "    <tr>\n",
              "      <th>...</th>\n",
              "      <td>...</td>\n",
              "      <td>...</td>\n",
              "      <td>...</td>\n",
              "      <td>...</td>\n",
              "      <td>...</td>\n",
              "      <td>...</td>\n",
              "      <td>...</td>\n",
              "    </tr>\n",
              "    <tr>\n",
              "      <th>2021-05-04</th>\n",
              "      <td>14687.250000</td>\n",
              "      <td>14723.400391</td>\n",
              "      <td>14461.500000</td>\n",
              "      <td>14496.500000</td>\n",
              "      <td>-137.650391</td>\n",
              "      <td>NaN</td>\n",
              "      <td>1.0</td>\n",
              "    </tr>\n",
              "    <tr>\n",
              "      <th>2021-05-05</th>\n",
              "      <td>14604.150391</td>\n",
              "      <td>14637.900391</td>\n",
              "      <td>14506.599609</td>\n",
              "      <td>14617.849609</td>\n",
              "      <td>121.349609</td>\n",
              "      <td>NaN</td>\n",
              "      <td>0.0</td>\n",
              "    </tr>\n",
              "    <tr>\n",
              "      <th>2021-05-06</th>\n",
              "      <td>14668.349609</td>\n",
              "      <td>14743.900391</td>\n",
              "      <td>14611.500000</td>\n",
              "      <td>14724.799805</td>\n",
              "      <td>106.950196</td>\n",
              "      <td>NaN</td>\n",
              "      <td>0.0</td>\n",
              "    </tr>\n",
              "    <tr>\n",
              "      <th>2021-05-07</th>\n",
              "      <td>14816.849609</td>\n",
              "      <td>14863.049805</td>\n",
              "      <td>14765.500000</td>\n",
              "      <td>14823.150391</td>\n",
              "      <td>98.350586</td>\n",
              "      <td>NaN</td>\n",
              "      <td>0.0</td>\n",
              "    </tr>\n",
              "    <tr>\n",
              "      <th>2021-05-10</th>\n",
              "      <td>14928.250000</td>\n",
              "      <td>14966.900391</td>\n",
              "      <td>14892.500000</td>\n",
              "      <td>14942.349609</td>\n",
              "      <td>119.199218</td>\n",
              "      <td>NaN</td>\n",
              "      <td>0.0</td>\n",
              "    </tr>\n",
              "  </tbody>\n",
              "</table>\n",
              "<p>5266 rows × 7 columns</p>\n",
              "</div>"
            ],
            "text/plain": [
              "                    Open          High  ...  forecast  Target\n",
              "Date                                    ...                  \n",
              "2000-01-03   1482.150000   1592.900000  ...       NaN     NaN\n",
              "2000-01-04   1594.400000   1641.950000  ...       NaN     0.0\n",
              "2000-01-05   1634.550000   1635.500000  ...       NaN     1.0\n",
              "2000-01-06   1595.800000   1639.000000  ...       NaN     0.0\n",
              "2000-01-07   1616.600000   1628.250000  ...       NaN     1.0\n",
              "...                  ...           ...  ...       ...     ...\n",
              "2021-05-04  14687.250000  14723.400391  ...       NaN     1.0\n",
              "2021-05-05  14604.150391  14637.900391  ...       NaN     0.0\n",
              "2021-05-06  14668.349609  14743.900391  ...       NaN     0.0\n",
              "2021-05-07  14816.849609  14863.049805  ...       NaN     0.0\n",
              "2021-05-10  14928.250000  14966.900391  ...       NaN     0.0\n",
              "\n",
              "[5266 rows x 7 columns]"
            ]
          },
          "metadata": {
            "tags": []
          },
          "execution_count": 30
        }
      ]
    },
    {
      "cell_type": "code",
      "metadata": {
        "colab": {
          "base_uri": "https://localhost:8080/"
        },
        "id": "7HDESjkwv_8m",
        "outputId": "d2bddb25-18f8-48e0-e178-04ce8904e396"
      },
      "source": [
        "data_df.Target.value_counts()"
      ],
      "execution_count": 31,
      "outputs": [
        {
          "output_type": "execute_result",
          "data": {
            "text/plain": [
              "0.0    2840\n",
              "1.0    2425\n",
              "Name: Target, dtype: int64"
            ]
          },
          "metadata": {
            "tags": []
          },
          "execution_count": 31
        }
      ]
    },
    {
      "cell_type": "markdown",
      "metadata": {
        "id": "Y84J6npHKExU"
      },
      "source": [
        "lets make few new features which will help in trainig our model. lets makes features.\n",
        "\n",
        "Lets makes new features of each features lest take N=5 "
      ]
    },
    {
      "cell_type": "code",
      "metadata": {
        "id": "dDCHsgZbH1dq"
      },
      "source": [
        "def get_dataframe(word,n):\n",
        "  feature = data_df[word].tolist()\n",
        "  data=[]\n",
        "  i=0\n",
        "  while i+n < len(feature):\n",
        "    new_list= feature[i:i+n]\n",
        "    new_list.reverse()\n",
        "    new_fet=[]\n",
        "    for num in range(n):\n",
        "      new_fet.append(word+str(num))\n",
        "    new_tuple= dict(zip(new_fet,new_list))\n",
        "    # print(new_tuple)\n",
        "    data.append(new_tuple)\n",
        "    i+=1\n",
        "\n",
        "  dataframe_1 = pd.DataFrame(data)\n",
        "  return dataframe_1\n",
        "  "
      ],
      "execution_count": 32,
      "outputs": []
    },
    {
      "cell_type": "code",
      "metadata": {
        "id": "qiE4DNnsrTdK"
      },
      "source": [
        "close_df = get_dataframe('Close',5)"
      ],
      "execution_count": 33,
      "outputs": []
    },
    {
      "cell_type": "code",
      "metadata": {
        "id": "Px9ycRYKsX9Q"
      },
      "source": [
        "open_df = get_dataframe('Open',5)"
      ],
      "execution_count": 34,
      "outputs": []
    },
    {
      "cell_type": "code",
      "metadata": {
        "id": "lTAQtLNOtqNX"
      },
      "source": [
        "high_df = get_dataframe('High',5)"
      ],
      "execution_count": 35,
      "outputs": []
    },
    {
      "cell_type": "code",
      "metadata": {
        "id": "fm7DNJg5tvCv"
      },
      "source": [
        "low_df= get_dataframe('Low',5)"
      ],
      "execution_count": 36,
      "outputs": []
    },
    {
      "cell_type": "code",
      "metadata": {
        "id": "MMutT5QPtzIf"
      },
      "source": [
        "featured_df = pd.concat([open_df,high_df,low_df,close_df],axis=1)"
      ],
      "execution_count": 37,
      "outputs": []
    },
    {
      "cell_type": "code",
      "metadata": {
        "colab": {
          "base_uri": "https://localhost:8080/",
          "height": 427
        },
        "id": "K3vw9xjquKBH",
        "outputId": "e1c274ae-1f9b-48d6-ddb0-3390b6f8cca5"
      },
      "source": [
        "featured_df"
      ],
      "execution_count": 38,
      "outputs": [
        {
          "output_type": "execute_result",
          "data": {
            "text/html": [
              "<div>\n",
              "<style scoped>\n",
              "    .dataframe tbody tr th:only-of-type {\n",
              "        vertical-align: middle;\n",
              "    }\n",
              "\n",
              "    .dataframe tbody tr th {\n",
              "        vertical-align: top;\n",
              "    }\n",
              "\n",
              "    .dataframe thead th {\n",
              "        text-align: right;\n",
              "    }\n",
              "</style>\n",
              "<table border=\"1\" class=\"dataframe\">\n",
              "  <thead>\n",
              "    <tr style=\"text-align: right;\">\n",
              "      <th></th>\n",
              "      <th>Open0</th>\n",
              "      <th>Open1</th>\n",
              "      <th>Open2</th>\n",
              "      <th>Open3</th>\n",
              "      <th>Open4</th>\n",
              "      <th>High0</th>\n",
              "      <th>High1</th>\n",
              "      <th>High2</th>\n",
              "      <th>High3</th>\n",
              "      <th>High4</th>\n",
              "      <th>Low0</th>\n",
              "      <th>Low1</th>\n",
              "      <th>Low2</th>\n",
              "      <th>Low3</th>\n",
              "      <th>Low4</th>\n",
              "      <th>Close0</th>\n",
              "      <th>Close1</th>\n",
              "      <th>Close2</th>\n",
              "      <th>Close3</th>\n",
              "      <th>Close4</th>\n",
              "    </tr>\n",
              "  </thead>\n",
              "  <tbody>\n",
              "    <tr>\n",
              "      <th>0</th>\n",
              "      <td>1616.600000</td>\n",
              "      <td>1595.800000</td>\n",
              "      <td>1634.550000</td>\n",
              "      <td>1594.400000</td>\n",
              "      <td>1482.150000</td>\n",
              "      <td>1628.250000</td>\n",
              "      <td>1639.000000</td>\n",
              "      <td>1635.500000</td>\n",
              "      <td>1641.950000</td>\n",
              "      <td>1592.900000</td>\n",
              "      <td>1597.200000</td>\n",
              "      <td>1595.800000</td>\n",
              "      <td>1555.050000</td>\n",
              "      <td>1594.400000</td>\n",
              "      <td>1482.150000</td>\n",
              "      <td>1613.300000</td>\n",
              "      <td>1617.600000</td>\n",
              "      <td>1595.800000</td>\n",
              "      <td>1638.700000</td>\n",
              "      <td>1592.200000</td>\n",
              "    </tr>\n",
              "    <tr>\n",
              "      <th>1</th>\n",
              "      <td>1615.650000</td>\n",
              "      <td>1616.600000</td>\n",
              "      <td>1595.800000</td>\n",
              "      <td>1634.550000</td>\n",
              "      <td>1594.400000</td>\n",
              "      <td>1662.100000</td>\n",
              "      <td>1628.250000</td>\n",
              "      <td>1639.000000</td>\n",
              "      <td>1635.500000</td>\n",
              "      <td>1641.950000</td>\n",
              "      <td>1614.950000</td>\n",
              "      <td>1597.200000</td>\n",
              "      <td>1595.800000</td>\n",
              "      <td>1555.050000</td>\n",
              "      <td>1594.400000</td>\n",
              "      <td>1632.950000</td>\n",
              "      <td>1613.300000</td>\n",
              "      <td>1617.600000</td>\n",
              "      <td>1595.800000</td>\n",
              "      <td>1638.700000</td>\n",
              "    </tr>\n",
              "    <tr>\n",
              "      <th>2</th>\n",
              "      <td>1633.250000</td>\n",
              "      <td>1615.650000</td>\n",
              "      <td>1616.600000</td>\n",
              "      <td>1595.800000</td>\n",
              "      <td>1634.550000</td>\n",
              "      <td>1639.900000</td>\n",
              "      <td>1662.100000</td>\n",
              "      <td>1628.250000</td>\n",
              "      <td>1639.000000</td>\n",
              "      <td>1635.500000</td>\n",
              "      <td>1548.250000</td>\n",
              "      <td>1614.950000</td>\n",
              "      <td>1597.200000</td>\n",
              "      <td>1595.800000</td>\n",
              "      <td>1555.050000</td>\n",
              "      <td>1572.500000</td>\n",
              "      <td>1632.950000</td>\n",
              "      <td>1613.300000</td>\n",
              "      <td>1617.600000</td>\n",
              "      <td>1595.800000</td>\n",
              "    </tr>\n",
              "    <tr>\n",
              "      <th>3</th>\n",
              "      <td>1572.300000</td>\n",
              "      <td>1633.250000</td>\n",
              "      <td>1615.650000</td>\n",
              "      <td>1616.600000</td>\n",
              "      <td>1595.800000</td>\n",
              "      <td>1631.550000</td>\n",
              "      <td>1639.900000</td>\n",
              "      <td>1662.100000</td>\n",
              "      <td>1628.250000</td>\n",
              "      <td>1639.000000</td>\n",
              "      <td>1571.700000</td>\n",
              "      <td>1548.250000</td>\n",
              "      <td>1614.950000</td>\n",
              "      <td>1597.200000</td>\n",
              "      <td>1595.800000</td>\n",
              "      <td>1624.800000</td>\n",
              "      <td>1572.500000</td>\n",
              "      <td>1632.950000</td>\n",
              "      <td>1613.300000</td>\n",
              "      <td>1617.600000</td>\n",
              "    </tr>\n",
              "    <tr>\n",
              "      <th>4</th>\n",
              "      <td>1627.850000</td>\n",
              "      <td>1572.300000</td>\n",
              "      <td>1633.250000</td>\n",
              "      <td>1615.650000</td>\n",
              "      <td>1616.600000</td>\n",
              "      <td>1671.150000</td>\n",
              "      <td>1631.550000</td>\n",
              "      <td>1639.900000</td>\n",
              "      <td>1662.100000</td>\n",
              "      <td>1628.250000</td>\n",
              "      <td>1613.650000</td>\n",
              "      <td>1571.700000</td>\n",
              "      <td>1548.250000</td>\n",
              "      <td>1614.950000</td>\n",
              "      <td>1597.200000</td>\n",
              "      <td>1621.400000</td>\n",
              "      <td>1624.800000</td>\n",
              "      <td>1572.500000</td>\n",
              "      <td>1632.950000</td>\n",
              "      <td>1613.300000</td>\n",
              "    </tr>\n",
              "    <tr>\n",
              "      <th>...</th>\n",
              "      <td>...</td>\n",
              "      <td>...</td>\n",
              "      <td>...</td>\n",
              "      <td>...</td>\n",
              "      <td>...</td>\n",
              "      <td>...</td>\n",
              "      <td>...</td>\n",
              "      <td>...</td>\n",
              "      <td>...</td>\n",
              "      <td>...</td>\n",
              "      <td>...</td>\n",
              "      <td>...</td>\n",
              "      <td>...</td>\n",
              "      <td>...</td>\n",
              "      <td>...</td>\n",
              "      <td>...</td>\n",
              "      <td>...</td>\n",
              "      <td>...</td>\n",
              "      <td>...</td>\n",
              "      <td>...</td>\n",
              "    </tr>\n",
              "    <tr>\n",
              "      <th>5256</th>\n",
              "      <td>14481.049805</td>\n",
              "      <td>14747.349609</td>\n",
              "      <td>14979.000000</td>\n",
              "      <td>14710.500000</td>\n",
              "      <td>14493.799805</td>\n",
              "      <td>14673.849609</td>\n",
              "      <td>14855.450195</td>\n",
              "      <td>15044.349609</td>\n",
              "      <td>14890.250000</td>\n",
              "      <td>14667.549805</td>\n",
              "      <td>14416.250000</td>\n",
              "      <td>14601.700195</td>\n",
              "      <td>14814.450195</td>\n",
              "      <td>14694.950195</td>\n",
              "      <td>14484.849609</td>\n",
              "      <td>14634.150391</td>\n",
              "      <td>14631.099609</td>\n",
              "      <td>14894.900391</td>\n",
              "      <td>14864.549805</td>\n",
              "      <td>14653.049805</td>\n",
              "    </tr>\n",
              "    <tr>\n",
              "      <th>5257</th>\n",
              "      <td>14687.250000</td>\n",
              "      <td>14481.049805</td>\n",
              "      <td>14747.349609</td>\n",
              "      <td>14979.000000</td>\n",
              "      <td>14710.500000</td>\n",
              "      <td>14723.400391</td>\n",
              "      <td>14673.849609</td>\n",
              "      <td>14855.450195</td>\n",
              "      <td>15044.349609</td>\n",
              "      <td>14890.250000</td>\n",
              "      <td>14461.500000</td>\n",
              "      <td>14416.250000</td>\n",
              "      <td>14601.700195</td>\n",
              "      <td>14814.450195</td>\n",
              "      <td>14694.950195</td>\n",
              "      <td>14496.500000</td>\n",
              "      <td>14634.150391</td>\n",
              "      <td>14631.099609</td>\n",
              "      <td>14894.900391</td>\n",
              "      <td>14864.549805</td>\n",
              "    </tr>\n",
              "    <tr>\n",
              "      <th>5258</th>\n",
              "      <td>14604.150391</td>\n",
              "      <td>14687.250000</td>\n",
              "      <td>14481.049805</td>\n",
              "      <td>14747.349609</td>\n",
              "      <td>14979.000000</td>\n",
              "      <td>14637.900391</td>\n",
              "      <td>14723.400391</td>\n",
              "      <td>14673.849609</td>\n",
              "      <td>14855.450195</td>\n",
              "      <td>15044.349609</td>\n",
              "      <td>14506.599609</td>\n",
              "      <td>14461.500000</td>\n",
              "      <td>14416.250000</td>\n",
              "      <td>14601.700195</td>\n",
              "      <td>14814.450195</td>\n",
              "      <td>14617.849609</td>\n",
              "      <td>14496.500000</td>\n",
              "      <td>14634.150391</td>\n",
              "      <td>14631.099609</td>\n",
              "      <td>14894.900391</td>\n",
              "    </tr>\n",
              "    <tr>\n",
              "      <th>5259</th>\n",
              "      <td>14668.349609</td>\n",
              "      <td>14604.150391</td>\n",
              "      <td>14687.250000</td>\n",
              "      <td>14481.049805</td>\n",
              "      <td>14747.349609</td>\n",
              "      <td>14743.900391</td>\n",
              "      <td>14637.900391</td>\n",
              "      <td>14723.400391</td>\n",
              "      <td>14673.849609</td>\n",
              "      <td>14855.450195</td>\n",
              "      <td>14611.500000</td>\n",
              "      <td>14506.599609</td>\n",
              "      <td>14461.500000</td>\n",
              "      <td>14416.250000</td>\n",
              "      <td>14601.700195</td>\n",
              "      <td>14724.799805</td>\n",
              "      <td>14617.849609</td>\n",
              "      <td>14496.500000</td>\n",
              "      <td>14634.150391</td>\n",
              "      <td>14631.099609</td>\n",
              "    </tr>\n",
              "    <tr>\n",
              "      <th>5260</th>\n",
              "      <td>14816.849609</td>\n",
              "      <td>14668.349609</td>\n",
              "      <td>14604.150391</td>\n",
              "      <td>14687.250000</td>\n",
              "      <td>14481.049805</td>\n",
              "      <td>14863.049805</td>\n",
              "      <td>14743.900391</td>\n",
              "      <td>14637.900391</td>\n",
              "      <td>14723.400391</td>\n",
              "      <td>14673.849609</td>\n",
              "      <td>14765.500000</td>\n",
              "      <td>14611.500000</td>\n",
              "      <td>14506.599609</td>\n",
              "      <td>14461.500000</td>\n",
              "      <td>14416.250000</td>\n",
              "      <td>14823.150391</td>\n",
              "      <td>14724.799805</td>\n",
              "      <td>14617.849609</td>\n",
              "      <td>14496.500000</td>\n",
              "      <td>14634.150391</td>\n",
              "    </tr>\n",
              "  </tbody>\n",
              "</table>\n",
              "<p>5261 rows × 20 columns</p>\n",
              "</div>"
            ],
            "text/plain": [
              "             Open0         Open1  ...        Close3        Close4\n",
              "0      1616.600000   1595.800000  ...   1638.700000   1592.200000\n",
              "1      1615.650000   1616.600000  ...   1595.800000   1638.700000\n",
              "2      1633.250000   1615.650000  ...   1617.600000   1595.800000\n",
              "3      1572.300000   1633.250000  ...   1613.300000   1617.600000\n",
              "4      1627.850000   1572.300000  ...   1632.950000   1613.300000\n",
              "...            ...           ...  ...           ...           ...\n",
              "5256  14481.049805  14747.349609  ...  14864.549805  14653.049805\n",
              "5257  14687.250000  14481.049805  ...  14894.900391  14864.549805\n",
              "5258  14604.150391  14687.250000  ...  14631.099609  14894.900391\n",
              "5259  14668.349609  14604.150391  ...  14634.150391  14631.099609\n",
              "5260  14816.849609  14668.349609  ...  14496.500000  14634.150391\n",
              "\n",
              "[5261 rows x 20 columns]"
            ]
          },
          "metadata": {
            "tags": []
          },
          "execution_count": 38
        }
      ]
    },
    {
      "cell_type": "code",
      "metadata": {
        "id": "itvmbrKVuL3n"
      },
      "source": [
        "data_df1= data_df.iloc[5:]"
      ],
      "execution_count": 39,
      "outputs": []
    },
    {
      "cell_type": "code",
      "metadata": {
        "colab": {
          "base_uri": "https://localhost:8080/"
        },
        "id": "q54cu6CDy-Pq",
        "outputId": "b5396e43-fc56-4da5-d2c7-e500d14f99a9"
      },
      "source": [
        "data_df1.drop(['Close First Difference','forecast'],axis=1,inplace=True)"
      ],
      "execution_count": 40,
      "outputs": [
        {
          "output_type": "stream",
          "text": [
            "/usr/local/lib/python3.7/dist-packages/pandas/core/frame.py:4174: SettingWithCopyWarning: \n",
            "A value is trying to be set on a copy of a slice from a DataFrame\n",
            "\n",
            "See the caveats in the documentation: https://pandas.pydata.org/pandas-docs/stable/user_guide/indexing.html#returning-a-view-versus-a-copy\n",
            "  errors=errors,\n"
          ],
          "name": "stderr"
        }
      ]
    },
    {
      "cell_type": "code",
      "metadata": {
        "id": "2H5_iGI1y_PN"
      },
      "source": [
        "data_df1.reset_index(inplace=True)"
      ],
      "execution_count": 41,
      "outputs": []
    },
    {
      "cell_type": "code",
      "metadata": {
        "id": "-U1pL40ozQ-W"
      },
      "source": [
        "final_df= pd.concat([data_df1,featured_df],axis=1)"
      ],
      "execution_count": 42,
      "outputs": []
    },
    {
      "cell_type": "code",
      "metadata": {
        "id": "VLJ_3Ifh1gin"
      },
      "source": [
        "final_df.set_index('Date',inplace=True)"
      ],
      "execution_count": 43,
      "outputs": []
    },
    {
      "cell_type": "code",
      "metadata": {
        "colab": {
          "base_uri": "https://localhost:8080/",
          "height": 630
        },
        "id": "n326HWUb1h2F",
        "outputId": "36e47816-e196-4c98-9fe7-4a03b6deba57"
      },
      "source": [
        "final_df"
      ],
      "execution_count": 44,
      "outputs": [
        {
          "output_type": "execute_result",
          "data": {
            "text/html": [
              "<div>\n",
              "<style scoped>\n",
              "    .dataframe tbody tr th:only-of-type {\n",
              "        vertical-align: middle;\n",
              "    }\n",
              "\n",
              "    .dataframe tbody tr th {\n",
              "        vertical-align: top;\n",
              "    }\n",
              "\n",
              "    .dataframe thead th {\n",
              "        text-align: right;\n",
              "    }\n",
              "</style>\n",
              "<table border=\"1\" class=\"dataframe\">\n",
              "  <thead>\n",
              "    <tr style=\"text-align: right;\">\n",
              "      <th></th>\n",
              "      <th>Open</th>\n",
              "      <th>High</th>\n",
              "      <th>Low</th>\n",
              "      <th>Close</th>\n",
              "      <th>Target</th>\n",
              "      <th>Open0</th>\n",
              "      <th>Open1</th>\n",
              "      <th>Open2</th>\n",
              "      <th>Open3</th>\n",
              "      <th>Open4</th>\n",
              "      <th>High0</th>\n",
              "      <th>High1</th>\n",
              "      <th>High2</th>\n",
              "      <th>High3</th>\n",
              "      <th>High4</th>\n",
              "      <th>Low0</th>\n",
              "      <th>Low1</th>\n",
              "      <th>Low2</th>\n",
              "      <th>Low3</th>\n",
              "      <th>Low4</th>\n",
              "      <th>Close0</th>\n",
              "      <th>Close1</th>\n",
              "      <th>Close2</th>\n",
              "      <th>Close3</th>\n",
              "      <th>Close4</th>\n",
              "    </tr>\n",
              "    <tr>\n",
              "      <th>Date</th>\n",
              "      <th></th>\n",
              "      <th></th>\n",
              "      <th></th>\n",
              "      <th></th>\n",
              "      <th></th>\n",
              "      <th></th>\n",
              "      <th></th>\n",
              "      <th></th>\n",
              "      <th></th>\n",
              "      <th></th>\n",
              "      <th></th>\n",
              "      <th></th>\n",
              "      <th></th>\n",
              "      <th></th>\n",
              "      <th></th>\n",
              "      <th></th>\n",
              "      <th></th>\n",
              "      <th></th>\n",
              "      <th></th>\n",
              "      <th></th>\n",
              "      <th></th>\n",
              "      <th></th>\n",
              "      <th></th>\n",
              "      <th></th>\n",
              "      <th></th>\n",
              "    </tr>\n",
              "  </thead>\n",
              "  <tbody>\n",
              "    <tr>\n",
              "      <th>2000-01-10</th>\n",
              "      <td>1615.650000</td>\n",
              "      <td>1662.100000</td>\n",
              "      <td>1614.950000</td>\n",
              "      <td>1632.950000</td>\n",
              "      <td>0.0</td>\n",
              "      <td>1616.600000</td>\n",
              "      <td>1595.800000</td>\n",
              "      <td>1634.550000</td>\n",
              "      <td>1594.400000</td>\n",
              "      <td>1482.150000</td>\n",
              "      <td>1628.250000</td>\n",
              "      <td>1639.000000</td>\n",
              "      <td>1635.500000</td>\n",
              "      <td>1641.950000</td>\n",
              "      <td>1592.900000</td>\n",
              "      <td>1597.200000</td>\n",
              "      <td>1595.800000</td>\n",
              "      <td>1555.050000</td>\n",
              "      <td>1594.400000</td>\n",
              "      <td>1482.150000</td>\n",
              "      <td>1613.300000</td>\n",
              "      <td>1617.600000</td>\n",
              "      <td>1595.800000</td>\n",
              "      <td>1638.700000</td>\n",
              "      <td>1592.200000</td>\n",
              "    </tr>\n",
              "    <tr>\n",
              "      <th>2000-01-11</th>\n",
              "      <td>1633.250000</td>\n",
              "      <td>1639.900000</td>\n",
              "      <td>1548.250000</td>\n",
              "      <td>1572.500000</td>\n",
              "      <td>1.0</td>\n",
              "      <td>1615.650000</td>\n",
              "      <td>1616.600000</td>\n",
              "      <td>1595.800000</td>\n",
              "      <td>1634.550000</td>\n",
              "      <td>1594.400000</td>\n",
              "      <td>1662.100000</td>\n",
              "      <td>1628.250000</td>\n",
              "      <td>1639.000000</td>\n",
              "      <td>1635.500000</td>\n",
              "      <td>1641.950000</td>\n",
              "      <td>1614.950000</td>\n",
              "      <td>1597.200000</td>\n",
              "      <td>1595.800000</td>\n",
              "      <td>1555.050000</td>\n",
              "      <td>1594.400000</td>\n",
              "      <td>1632.950000</td>\n",
              "      <td>1613.300000</td>\n",
              "      <td>1617.600000</td>\n",
              "      <td>1595.800000</td>\n",
              "      <td>1638.700000</td>\n",
              "    </tr>\n",
              "    <tr>\n",
              "      <th>2000-01-12</th>\n",
              "      <td>1572.300000</td>\n",
              "      <td>1631.550000</td>\n",
              "      <td>1571.700000</td>\n",
              "      <td>1624.800000</td>\n",
              "      <td>0.0</td>\n",
              "      <td>1633.250000</td>\n",
              "      <td>1615.650000</td>\n",
              "      <td>1616.600000</td>\n",
              "      <td>1595.800000</td>\n",
              "      <td>1634.550000</td>\n",
              "      <td>1639.900000</td>\n",
              "      <td>1662.100000</td>\n",
              "      <td>1628.250000</td>\n",
              "      <td>1639.000000</td>\n",
              "      <td>1635.500000</td>\n",
              "      <td>1548.250000</td>\n",
              "      <td>1614.950000</td>\n",
              "      <td>1597.200000</td>\n",
              "      <td>1595.800000</td>\n",
              "      <td>1555.050000</td>\n",
              "      <td>1572.500000</td>\n",
              "      <td>1632.950000</td>\n",
              "      <td>1613.300000</td>\n",
              "      <td>1617.600000</td>\n",
              "      <td>1595.800000</td>\n",
              "    </tr>\n",
              "    <tr>\n",
              "      <th>2000-01-13</th>\n",
              "      <td>1627.850000</td>\n",
              "      <td>1671.150000</td>\n",
              "      <td>1613.650000</td>\n",
              "      <td>1621.400000</td>\n",
              "      <td>1.0</td>\n",
              "      <td>1572.300000</td>\n",
              "      <td>1633.250000</td>\n",
              "      <td>1615.650000</td>\n",
              "      <td>1616.600000</td>\n",
              "      <td>1595.800000</td>\n",
              "      <td>1631.550000</td>\n",
              "      <td>1639.900000</td>\n",
              "      <td>1662.100000</td>\n",
              "      <td>1628.250000</td>\n",
              "      <td>1639.000000</td>\n",
              "      <td>1571.700000</td>\n",
              "      <td>1548.250000</td>\n",
              "      <td>1614.950000</td>\n",
              "      <td>1597.200000</td>\n",
              "      <td>1595.800000</td>\n",
              "      <td>1624.800000</td>\n",
              "      <td>1572.500000</td>\n",
              "      <td>1632.950000</td>\n",
              "      <td>1613.300000</td>\n",
              "      <td>1617.600000</td>\n",
              "    </tr>\n",
              "    <tr>\n",
              "      <th>2000-01-14</th>\n",
              "      <td>1622.150000</td>\n",
              "      <td>1627.400000</td>\n",
              "      <td>1591.400000</td>\n",
              "      <td>1622.750000</td>\n",
              "      <td>0.0</td>\n",
              "      <td>1627.850000</td>\n",
              "      <td>1572.300000</td>\n",
              "      <td>1633.250000</td>\n",
              "      <td>1615.650000</td>\n",
              "      <td>1616.600000</td>\n",
              "      <td>1671.150000</td>\n",
              "      <td>1631.550000</td>\n",
              "      <td>1639.900000</td>\n",
              "      <td>1662.100000</td>\n",
              "      <td>1628.250000</td>\n",
              "      <td>1613.650000</td>\n",
              "      <td>1571.700000</td>\n",
              "      <td>1548.250000</td>\n",
              "      <td>1614.950000</td>\n",
              "      <td>1597.200000</td>\n",
              "      <td>1621.400000</td>\n",
              "      <td>1624.800000</td>\n",
              "      <td>1572.500000</td>\n",
              "      <td>1632.950000</td>\n",
              "      <td>1613.300000</td>\n",
              "    </tr>\n",
              "    <tr>\n",
              "      <th>...</th>\n",
              "      <td>...</td>\n",
              "      <td>...</td>\n",
              "      <td>...</td>\n",
              "      <td>...</td>\n",
              "      <td>...</td>\n",
              "      <td>...</td>\n",
              "      <td>...</td>\n",
              "      <td>...</td>\n",
              "      <td>...</td>\n",
              "      <td>...</td>\n",
              "      <td>...</td>\n",
              "      <td>...</td>\n",
              "      <td>...</td>\n",
              "      <td>...</td>\n",
              "      <td>...</td>\n",
              "      <td>...</td>\n",
              "      <td>...</td>\n",
              "      <td>...</td>\n",
              "      <td>...</td>\n",
              "      <td>...</td>\n",
              "      <td>...</td>\n",
              "      <td>...</td>\n",
              "      <td>...</td>\n",
              "      <td>...</td>\n",
              "      <td>...</td>\n",
              "    </tr>\n",
              "    <tr>\n",
              "      <th>2021-05-04</th>\n",
              "      <td>14687.250000</td>\n",
              "      <td>14723.400391</td>\n",
              "      <td>14461.500000</td>\n",
              "      <td>14496.500000</td>\n",
              "      <td>1.0</td>\n",
              "      <td>14481.049805</td>\n",
              "      <td>14747.349609</td>\n",
              "      <td>14979.000000</td>\n",
              "      <td>14710.500000</td>\n",
              "      <td>14493.799805</td>\n",
              "      <td>14673.849609</td>\n",
              "      <td>14855.450195</td>\n",
              "      <td>15044.349609</td>\n",
              "      <td>14890.250000</td>\n",
              "      <td>14667.549805</td>\n",
              "      <td>14416.250000</td>\n",
              "      <td>14601.700195</td>\n",
              "      <td>14814.450195</td>\n",
              "      <td>14694.950195</td>\n",
              "      <td>14484.849609</td>\n",
              "      <td>14634.150391</td>\n",
              "      <td>14631.099609</td>\n",
              "      <td>14894.900391</td>\n",
              "      <td>14864.549805</td>\n",
              "      <td>14653.049805</td>\n",
              "    </tr>\n",
              "    <tr>\n",
              "      <th>2021-05-05</th>\n",
              "      <td>14604.150391</td>\n",
              "      <td>14637.900391</td>\n",
              "      <td>14506.599609</td>\n",
              "      <td>14617.849609</td>\n",
              "      <td>0.0</td>\n",
              "      <td>14687.250000</td>\n",
              "      <td>14481.049805</td>\n",
              "      <td>14747.349609</td>\n",
              "      <td>14979.000000</td>\n",
              "      <td>14710.500000</td>\n",
              "      <td>14723.400391</td>\n",
              "      <td>14673.849609</td>\n",
              "      <td>14855.450195</td>\n",
              "      <td>15044.349609</td>\n",
              "      <td>14890.250000</td>\n",
              "      <td>14461.500000</td>\n",
              "      <td>14416.250000</td>\n",
              "      <td>14601.700195</td>\n",
              "      <td>14814.450195</td>\n",
              "      <td>14694.950195</td>\n",
              "      <td>14496.500000</td>\n",
              "      <td>14634.150391</td>\n",
              "      <td>14631.099609</td>\n",
              "      <td>14894.900391</td>\n",
              "      <td>14864.549805</td>\n",
              "    </tr>\n",
              "    <tr>\n",
              "      <th>2021-05-06</th>\n",
              "      <td>14668.349609</td>\n",
              "      <td>14743.900391</td>\n",
              "      <td>14611.500000</td>\n",
              "      <td>14724.799805</td>\n",
              "      <td>0.0</td>\n",
              "      <td>14604.150391</td>\n",
              "      <td>14687.250000</td>\n",
              "      <td>14481.049805</td>\n",
              "      <td>14747.349609</td>\n",
              "      <td>14979.000000</td>\n",
              "      <td>14637.900391</td>\n",
              "      <td>14723.400391</td>\n",
              "      <td>14673.849609</td>\n",
              "      <td>14855.450195</td>\n",
              "      <td>15044.349609</td>\n",
              "      <td>14506.599609</td>\n",
              "      <td>14461.500000</td>\n",
              "      <td>14416.250000</td>\n",
              "      <td>14601.700195</td>\n",
              "      <td>14814.450195</td>\n",
              "      <td>14617.849609</td>\n",
              "      <td>14496.500000</td>\n",
              "      <td>14634.150391</td>\n",
              "      <td>14631.099609</td>\n",
              "      <td>14894.900391</td>\n",
              "    </tr>\n",
              "    <tr>\n",
              "      <th>2021-05-07</th>\n",
              "      <td>14816.849609</td>\n",
              "      <td>14863.049805</td>\n",
              "      <td>14765.500000</td>\n",
              "      <td>14823.150391</td>\n",
              "      <td>0.0</td>\n",
              "      <td>14668.349609</td>\n",
              "      <td>14604.150391</td>\n",
              "      <td>14687.250000</td>\n",
              "      <td>14481.049805</td>\n",
              "      <td>14747.349609</td>\n",
              "      <td>14743.900391</td>\n",
              "      <td>14637.900391</td>\n",
              "      <td>14723.400391</td>\n",
              "      <td>14673.849609</td>\n",
              "      <td>14855.450195</td>\n",
              "      <td>14611.500000</td>\n",
              "      <td>14506.599609</td>\n",
              "      <td>14461.500000</td>\n",
              "      <td>14416.250000</td>\n",
              "      <td>14601.700195</td>\n",
              "      <td>14724.799805</td>\n",
              "      <td>14617.849609</td>\n",
              "      <td>14496.500000</td>\n",
              "      <td>14634.150391</td>\n",
              "      <td>14631.099609</td>\n",
              "    </tr>\n",
              "    <tr>\n",
              "      <th>2021-05-10</th>\n",
              "      <td>14928.250000</td>\n",
              "      <td>14966.900391</td>\n",
              "      <td>14892.500000</td>\n",
              "      <td>14942.349609</td>\n",
              "      <td>0.0</td>\n",
              "      <td>14816.849609</td>\n",
              "      <td>14668.349609</td>\n",
              "      <td>14604.150391</td>\n",
              "      <td>14687.250000</td>\n",
              "      <td>14481.049805</td>\n",
              "      <td>14863.049805</td>\n",
              "      <td>14743.900391</td>\n",
              "      <td>14637.900391</td>\n",
              "      <td>14723.400391</td>\n",
              "      <td>14673.849609</td>\n",
              "      <td>14765.500000</td>\n",
              "      <td>14611.500000</td>\n",
              "      <td>14506.599609</td>\n",
              "      <td>14461.500000</td>\n",
              "      <td>14416.250000</td>\n",
              "      <td>14823.150391</td>\n",
              "      <td>14724.799805</td>\n",
              "      <td>14617.849609</td>\n",
              "      <td>14496.500000</td>\n",
              "      <td>14634.150391</td>\n",
              "    </tr>\n",
              "  </tbody>\n",
              "</table>\n",
              "<p>5261 rows × 25 columns</p>\n",
              "</div>"
            ],
            "text/plain": [
              "                    Open          High  ...        Close3        Close4\n",
              "Date                                    ...                            \n",
              "2000-01-10   1615.650000   1662.100000  ...   1638.700000   1592.200000\n",
              "2000-01-11   1633.250000   1639.900000  ...   1595.800000   1638.700000\n",
              "2000-01-12   1572.300000   1631.550000  ...   1617.600000   1595.800000\n",
              "2000-01-13   1627.850000   1671.150000  ...   1613.300000   1617.600000\n",
              "2000-01-14   1622.150000   1627.400000  ...   1632.950000   1613.300000\n",
              "...                  ...           ...  ...           ...           ...\n",
              "2021-05-04  14687.250000  14723.400391  ...  14864.549805  14653.049805\n",
              "2021-05-05  14604.150391  14637.900391  ...  14894.900391  14864.549805\n",
              "2021-05-06  14668.349609  14743.900391  ...  14631.099609  14894.900391\n",
              "2021-05-07  14816.849609  14863.049805  ...  14634.150391  14631.099609\n",
              "2021-05-10  14928.250000  14966.900391  ...  14496.500000  14634.150391\n",
              "\n",
              "[5261 rows x 25 columns]"
            ]
          },
          "metadata": {
            "tags": []
          },
          "execution_count": 44
        }
      ]
    },
    {
      "cell_type": "code",
      "metadata": {
        "id": "F3uYfNSvqLa1"
      },
      "source": [
        ""
      ],
      "execution_count": 44,
      "outputs": []
    },
    {
      "cell_type": "markdown",
      "metadata": {
        "id": "Xb_2H7aWiRSZ"
      },
      "source": [
        ""
      ]
    },
    {
      "cell_type": "markdown",
      "metadata": {
        "id": "3t3q-CKl5sZV"
      },
      "source": [
        "## volatility \n",
        "Diffrence of high and low in a certain day"
      ]
    },
    {
      "cell_type": "code",
      "metadata": {
        "id": "dSOWRtSI3uVE"
      },
      "source": [
        "final_df['Volatility']= final_df['High']-final_df['Low']"
      ],
      "execution_count": 45,
      "outputs": []
    },
    {
      "cell_type": "code",
      "metadata": {
        "id": "k794eWN_9NFr"
      },
      "source": [
        ""
      ],
      "execution_count": 45,
      "outputs": []
    },
    {
      "cell_type": "markdown",
      "metadata": {
        "id": "NUmaNFCM6Ywa"
      },
      "source": [
        "### Moving average \n",
        "\n",
        "finding moving average different time period\n"
      ]
    },
    {
      "cell_type": "code",
      "metadata": {
        "id": "E9xLxrOE3uRd"
      },
      "source": [
        "def moving_avg(df,col, day):\n",
        "  var_name = col + str(day)\n",
        "  df[var_name + '_ma']= df[col]-df[col].rolling(window=day,min_periods=1).mean()\n",
        "  df[var_name+ '_ewma']= df[col]-df[col].ewm(com=day).mean()\n",
        "  return df\n",
        "\n"
      ],
      "execution_count": 46,
      "outputs": []
    },
    {
      "cell_type": "code",
      "metadata": {
        "id": "Swbs6o1Q3uN9"
      },
      "source": [
        "# findind mean average for \n",
        "days= [3,7,15,30,50]\n",
        "cols= ['High','Low',\"Open\",'Close']\n",
        "for col in cols:\n",
        "  for day in days:\n",
        "    moving_avg(final_df,col,day)"
      ],
      "execution_count": 47,
      "outputs": []
    },
    {
      "cell_type": "code",
      "metadata": {
        "colab": {
          "base_uri": "https://localhost:8080/"
        },
        "id": "GyEUFJqV3t1u",
        "outputId": "2f432f19-597b-40e5-8da5-3e434fd13750"
      },
      "source": [
        "final_df.shape"
      ],
      "execution_count": 48,
      "outputs": [
        {
          "output_type": "execute_result",
          "data": {
            "text/plain": [
              "(5261, 66)"
            ]
          },
          "metadata": {
            "tags": []
          },
          "execution_count": 48
        }
      ]
    },
    {
      "cell_type": "code",
      "metadata": {
        "id": "35fmYvb4rgNq"
      },
      "source": [
        "final_df= final_df.drop(['High','Low','Open','Close'],axis=1)"
      ],
      "execution_count": 49,
      "outputs": []
    },
    {
      "cell_type": "markdown",
      "metadata": {
        "id": "SBLB9drkrf6H"
      },
      "source": [
        ""
      ]
    },
    {
      "cell_type": "markdown",
      "metadata": {
        "id": "AheTkpnEKGXK"
      },
      "source": [
        "#### Corelation of independent feature and dependent features"
      ]
    },
    {
      "cell_type": "code",
      "metadata": {
        "id": "c_NfSwkfKTQM"
      },
      "source": [
        "cor_matrix =abs( final_df.corr())"
      ],
      "execution_count": 50,
      "outputs": []
    },
    {
      "cell_type": "code",
      "metadata": {
        "colab": {
          "base_uri": "https://localhost:8080/",
          "height": 352
        },
        "id": "tr4lOBpkKTLU",
        "outputId": "58b498b1-8eaf-41f2-8893-bb0386b57d38"
      },
      "source": [
        "sns.heatmap(cor_matrix,annot = True)"
      ],
      "execution_count": 51,
      "outputs": [
        {
          "output_type": "execute_result",
          "data": {
            "text/plain": [
              "<matplotlib.axes._subplots.AxesSubplot at 0x7fe3860cf910>"
            ]
          },
          "metadata": {
            "tags": []
          },
          "execution_count": 51
        },
        {
          "output_type": "display_data",
          "data": {
            "image/png": "[encoded data removed]",
            "text/plain": [
              "<Figure size 432x288 with 2 Axes>"
            ]
          },
          "metadata": {
            "tags": [],
            "needs_background": "light"
          }
        }
      ]
    },
    {
      "cell_type": "code",
      "metadata": {
        "colab": {
          "base_uri": "https://localhost:8080/"
        },
        "id": "ndB6ZsL4KS6R",
        "outputId": "88539faa-899e-44a0-c980-9a203b26b09a"
      },
      "source": [
        "cor_matrix['Target'].sort_values(ascending=False)"
      ],
      "execution_count": 52,
      "outputs": [
        {
          "output_type": "execute_result",
          "data": {
            "text/plain": [
              "Target         1.000000\n",
              "Close3_ma      0.572317\n",
              "Close3_ewma    0.425850\n",
              "Close7_ma      0.412414\n",
              "Low3_ma        0.387116\n",
              "                 ...   \n",
              "Close1         0.005297\n",
              "Open0          0.005023\n",
              "Low0           0.004677\n",
              "High0          0.004613\n",
              "Close0         0.004285\n",
              "Name: Target, Length: 62, dtype: float64"
            ]
          },
          "metadata": {
            "tags": []
          },
          "execution_count": 52
        }
      ]
    },
    {
      "cell_type": "markdown",
      "metadata": {
        "id": "GIBz8Ask-PaT"
      },
      "source": [
        "Spliting data into test train and validation"
      ]
    },
    {
      "cell_type": "code",
      "metadata": {
        "id": "IFDDlYJe2PUO"
      },
      "source": [
        "def temporal_splitting(data,date1,date2,date3):\n",
        "    train=data.loc[(data.index >= date1) & (data.index < date2)]\n",
        "    val=data.loc[(data.index >= date2) & (data.index < date3),:]\n",
        "    test=data.loc[data.index >= date3]\n",
        "    \n",
        "    return train, val, test"
      ],
      "execution_count": 53,
      "outputs": []
    },
    {
      "cell_type": "markdown",
      "metadata": {
        "id": "RcdEPUPIGjNF"
      },
      "source": [
        "i try to divide my training validation nad test data as \n",
        "\n",
        "* 16 years for training\n",
        "* 3 year for validation\n",
        "* 2 years for testing"
      ]
    },
    {
      "cell_type": "code",
      "metadata": {
        "id": "5ZxTkBMXBKsG"
      },
      "source": [
        "train, val,test=temporal_splitting(final_df,'2000-01-01','2016-01-01','2019-06-01')"
      ],
      "execution_count": 54,
      "outputs": []
    },
    {
      "cell_type": "markdown",
      "metadata": {
        "id": "qrFpQmDoHNYO"
      },
      "source": [
        "disrtibution for test , valiodatiuon and test"
      ]
    },
    {
      "cell_type": "code",
      "metadata": {
        "colab": {
          "base_uri": "https://localhost:8080/"
        },
        "id": "CcuPs7ZkHTWV",
        "outputId": "46eb9406-7ee8-4c9c-8bbb-66463bf58996"
      },
      "source": [
        "train.shape,val.shape,test.shape"
      ],
      "execution_count": 55,
      "outputs": [
        {
          "output_type": "execute_result",
          "data": {
            "text/plain": [
              "((3948, 62), (837, 62), (476, 62))"
            ]
          },
          "metadata": {
            "tags": []
          },
          "execution_count": 55
        }
      ]
    },
    {
      "cell_type": "markdown",
      "metadata": {
        "id": "fma2BaOoH337"
      },
      "source": [
        "fining indepenent and dependect variables"
      ]
    },
    {
      "cell_type": "code",
      "metadata": {
        "id": "5hKJfIeLH_Cj"
      },
      "source": [
        "ind_var= final_df.columns.drop('Target')"
      ],
      "execution_count": 56,
      "outputs": []
    },
    {
      "cell_type": "code",
      "metadata": {
        "colab": {
          "base_uri": "https://localhost:8080/"
        },
        "id": "9bvSfOr1IPZR",
        "outputId": "0bfbdede-3d60-4380-ca52-5b97e9a82d76"
      },
      "source": [
        "ind_var"
      ],
      "execution_count": 57,
      "outputs": [
        {
          "output_type": "execute_result",
          "data": {
            "text/plain": [
              "Index(['Open0', 'Open1', 'Open2', 'Open3', 'Open4', 'High0', 'High1', 'High2',\n",
              "       'High3', 'High4', 'Low0', 'Low1', 'Low2', 'Low3', 'Low4', 'Close0',\n",
              "       'Close1', 'Close2', 'Close3', 'Close4', 'Volatility', 'High3_ma',\n",
              "       'High3_ewma', 'High7_ma', 'High7_ewma', 'High15_ma', 'High15_ewma',\n",
              "       'High30_ma', 'High30_ewma', 'High50_ma', 'High50_ewma', 'Low3_ma',\n",
              "       'Low3_ewma', 'Low7_ma', 'Low7_ewma', 'Low15_ma', 'Low15_ewma',\n",
              "       'Low30_ma', 'Low30_ewma', 'Low50_ma', 'Low50_ewma', 'Open3_ma',\n",
              "       'Open3_ewma', 'Open7_ma', 'Open7_ewma', 'Open15_ma', 'Open15_ewma',\n",
              "       'Open30_ma', 'Open30_ewma', 'Open50_ma', 'Open50_ewma', 'Close3_ma',\n",
              "       'Close3_ewma', 'Close7_ma', 'Close7_ewma', 'Close15_ma', 'Close15_ewma',\n",
              "       'Close30_ma', 'Close30_ewma', 'Close50_ma', 'Close50_ewma'],\n",
              "      dtype='object')"
            ]
          },
          "metadata": {
            "tags": []
          },
          "execution_count": 57
        }
      ]
    },
    {
      "cell_type": "code",
      "metadata": {
        "id": "RX1uIAzyIRMo"
      },
      "source": [
        "dept_var=['Target']"
      ],
      "execution_count": 58,
      "outputs": []
    },
    {
      "cell_type": "markdown",
      "metadata": {
        "id": "w-pg9nOTJI5i"
      },
      "source": [
        "Defining training data"
      ]
    },
    {
      "cell_type": "code",
      "metadata": {
        "id": "2IqQUiJcJIpt"
      },
      "source": [
        "X_train= train[ind_var]\n",
        "X_val = val[ind_var]\n",
        "X_test = test[ind_var]\n",
        "\n",
        "y_train= train[dept_var]\n",
        "y_val = val[dept_var]\n",
        "y_test = test[dept_var]"
      ],
      "execution_count": 59,
      "outputs": []
    },
    {
      "cell_type": "markdown",
      "metadata": {
        "id": "ygk-w1C2J0gL"
      },
      "source": [
        "#### Obtaining the distribution of classes of dependent variable across three datasets"
      ]
    },
    {
      "cell_type": "code",
      "metadata": {
        "colab": {
          "base_uri": "https://localhost:8080/"
        },
        "id": "AiWkvilSJBGL",
        "outputId": "7f5b3cdb-510b-4a73-9f43-37e0fa75f1bb"
      },
      "source": [
        "print(y_train.value_counts())\n",
        "print(y_val.value_counts())\n",
        "print(y_test.value_counts())"
      ],
      "execution_count": 60,
      "outputs": [
        {
          "output_type": "stream",
          "text": [
            "Target\n",
            "0.0       2116\n",
            "1.0       1832\n",
            "dtype: int64\n",
            "Target\n",
            "0.0       453\n",
            "1.0       384\n",
            "dtype: int64\n",
            "Target\n",
            "0.0       269\n",
            "1.0       207\n",
            "dtype: int64\n"
          ],
          "name": "stdout"
        }
      ]
    },
    {
      "cell_type": "code",
      "metadata": {
        "colab": {
          "base_uri": "https://localhost:8080/"
        },
        "id": "_DdyqZQ-s3KC",
        "outputId": "ef6019eb-2d61-4269-f24d-23120a76b0c0"
      },
      "source": [
        "pip install bayesian-optimization"
      ],
      "execution_count": 63,
      "outputs": [
        {
          "output_type": "stream",
          "text": [
            "Collecting bayesian-optimization\n",
            "  Downloading https://files.pythonhosted.org/packages/bb/7a/fd8059a3881d3ab37ac8f72f56b73937a14e8bb14a9733e68cc8b17dbe3c/bayesian-optimization-1.2.0.tar.gz\n",
            "Requirement already satisfied: numpy>=1.9.0 in /usr/local/lib/python3.7/dist-packages (from bayesian-optimization) (1.19.5)\n",
            "Requirement already satisfied: scipy>=0.14.0 in /usr/local/lib/python3.7/dist-packages (from bayesian-optimization) (1.4.1)\n",
            "Requirement already satisfied: scikit-learn>=0.18.0 in /usr/local/lib/python3.7/dist-packages (from bayesian-optimization) (0.22.2.post1)\n",
            "Requirement already satisfied: joblib>=0.11 in /usr/local/lib/python3.7/dist-packages (from scikit-learn>=0.18.0->bayesian-optimization) (1.0.1)\n",
            "Building wheels for collected packages: bayesian-optimization\n",
            "  Building wheel for bayesian-optimization (setup.py) ... \u001b[?25l\u001b[?25hdone\n",
            "  Created wheel for bayesian-optimization: filename=bayesian_optimization-1.2.0-cp37-none-any.whl size=11687 sha256=6fbc3d7de055355da9758a6bdd5908705893e321b93bd692c3c1340d5c365674\n",
            "  Stored in directory: /root/.cache/pip/wheels/5a/56/ae/e0e3c1fc1954dc3ec712e2df547235ed072b448094d8f94aec\n",
            "Successfully built bayesian-optimization\n",
            "Installing collected packages: bayesian-optimization\n",
            "Successfully installed bayesian-optimization-1.2.0\n"
          ],
          "name": "stdout"
        }
      ]
    },
    {
      "cell_type": "code",
      "metadata": {
        "id": "iTseGcVoGZuT"
      },
      "source": [
        "import warnings\n",
        "warnings.filterwarnings('ignore')\n",
        "import numpy as np\n",
        "import pandas as pd\n",
        "from datetime import datetime\n",
        "from sklearn.model_selection import RandomizedSearchCV, GridSearchCV\n",
        "from sklearn.metrics import roc_auc_score\n",
        "from xgboost import XGBClassifier\n",
        "from sklearn.model_selection import TimeSeriesSplit\n",
        "\n",
        "import xgboost as xgb\n",
        "import lightgbm as lgb\n",
        "import bayes_opt as bayso\n",
        "from sklearn.metrics import accuracy_score,confusion_matrix"
      ],
      "execution_count": 64,
      "outputs": []
    },
    {
      "cell_type": "code",
      "metadata": {
        "id": "V--hUE3FGZuT"
      },
      "source": [
        "def lgbcv1(min_child_weight,\n",
        "           colsample_bytree,\n",
        "           max_depth,\n",
        "           subsample,\n",
        "           min_gain_to_split,\n",
        "           reg_alpha,\n",
        "           reg_lambda):\n",
        "\n",
        "    params = {\n",
        "        'objective': 'binary',\n",
        "        'metric': 'auc',\n",
        "        'boosting': 'gbdt',\n",
        "        'random_state' : 501, # Updated from 'seed'\n",
        "        'n_estimators' : 200,\n",
        "        'learning_rate': 0.1,\n",
        "        'early_stopping_round' : 10,\n",
        "        'verbose': 20,\n",
        "        'num_leaves': 65,\n",
        "        'min_data_in_leaf': 500,\n",
        "        'bagging_freq': 1,\n",
        "        'bagging_seed': RS,\n",
        "        'feature_fraction_seed': RS,\n",
        "        'max_bin': 50,\n",
        "        'min_child_weight': int(min_child_weight),\n",
        "        'colsample_bytree': max(min(colsample_bytree, 1), 0),\n",
        "        'max_depth': int(max_depth),\n",
        "        'subsample': max(min(subsample, 1), 0),\n",
        "        'min_gain_to_split': max(min_gain_to_split,0),\n",
        "        'reg_alpha': max(reg_alpha,0),\n",
        "        'reg_lambda': max(reg_lambda,0)\n",
        "    }\n",
        "\n",
        "\n",
        "    cv_result = lgb.cv(params, lgtrain, nfold=5, seed=0, verbose_eval =200,stratified=False,shuffle=False)\n",
        "\n",
        "    return max(cv_result['auc-mean'])"
      ],
      "execution_count": 65,
      "outputs": []
    },
    {
      "cell_type": "code",
      "metadata": {
        "id": "VflCwTrjGZuU"
      },
      "source": [
        "def prepare_data():\n",
        "    lgtrain = lgb.Dataset(X_train, label=y_train)\n",
        "\n",
        "    return lgtrain"
      ],
      "execution_count": 66,
      "outputs": []
    },
    {
      "cell_type": "code",
      "metadata": {
        "colab": {
          "base_uri": "https://localhost:8080/"
        },
        "id": "VkzNADFFGZuU",
        "scrolled": true,
        "outputId": "7917707c-d5b2-4979-8beb-6bfd44875142"
      },
      "source": [
        "if __name__ == '__main__':\n",
        "    lgtrain =  prepare_data()\n",
        "    random_state = 2020\n",
        "    init_points = 30\n",
        "    numitems=30\n",
        "    RS = 20200801\n",
        "    np.random.seed(RS)\n",
        "    lgbo = bayso.BayesianOptimization(lgbcv1,\n",
        "                                      {'min_child_weight': (300, 500),\n",
        "                                      'colsample_bytree': (0.4, 0.7),\n",
        "                                      'max_depth': (5, 7),\n",
        "                                      'subsample': (0.3, 1.0),\n",
        "                                      'min_gain_to_split': (0, 20),\n",
        "                                      'reg_alpha': (0, 20),\n",
        "                                      'reg_lambda': (0, 50)})\n",
        "    \n",
        "    lgbo.maximize(init_points=init_points, n_iter=numitems)"
      ],
      "execution_count": 67,
      "outputs": [
        {
          "output_type": "stream",
          "text": [
            "|   iter    |  target   | colsam... | max_depth | min_ch... | min_ga... | reg_alpha | reg_la... | subsample |\n",
            "-------------------------------------------------------------------------------------------------------------\n",
            "| \u001b[0m 1       \u001b[0m | \u001b[0m 0.5     \u001b[0m | \u001b[0m 0.5147  \u001b[0m | \u001b[0m 6.334   \u001b[0m | \u001b[0m 486.7   \u001b[0m | \u001b[0m 18.83   \u001b[0m | \u001b[0m 11.82   \u001b[0m | \u001b[0m 18.69   \u001b[0m | \u001b[0m 0.3325  \u001b[0m |\n",
            "| \u001b[0m 2       \u001b[0m | \u001b[0m 0.5     \u001b[0m | \u001b[0m 0.4416  \u001b[0m | \u001b[0m 5.497   \u001b[0m | \u001b[0m 420.3   \u001b[0m | \u001b[0m 8.054   \u001b[0m | \u001b[0m 1.115   \u001b[0m | \u001b[0m 32.78   \u001b[0m | \u001b[0m 0.779   \u001b[0m |\n",
            "| \u001b[0m 3       \u001b[0m | \u001b[0m 0.5     \u001b[0m | \u001b[0m 0.5855  \u001b[0m | \u001b[0m 5.069   \u001b[0m | \u001b[0m 414.1   \u001b[0m | \u001b[0m 13.3    \u001b[0m | \u001b[0m 9.564   \u001b[0m | \u001b[0m 39.37   \u001b[0m | \u001b[0m 0.692   \u001b[0m |\n",
            "| \u001b[0m 4       \u001b[0m | \u001b[0m 0.5     \u001b[0m | \u001b[0m 0.4494  \u001b[0m | \u001b[0m 5.08    \u001b[0m | \u001b[0m 433.1   \u001b[0m | \u001b[0m 5.496   \u001b[0m | \u001b[0m 19.17   \u001b[0m | \u001b[0m 49.92   \u001b[0m | \u001b[0m 0.5185  \u001b[0m |\n",
            "| \u001b[0m 5       \u001b[0m | \u001b[0m 0.5     \u001b[0m | \u001b[0m 0.4651  \u001b[0m | \u001b[0m 6.815   \u001b[0m | \u001b[0m 488.0   \u001b[0m | \u001b[0m 9.885   \u001b[0m | \u001b[0m 14.08   \u001b[0m | \u001b[0m 45.97   \u001b[0m | \u001b[0m 0.7373  \u001b[0m |\n",
            "| \u001b[95m 6       \u001b[0m | \u001b[95m 0.8644  \u001b[0m | \u001b[95m 0.5495  \u001b[0m | \u001b[95m 5.933   \u001b[0m | \u001b[95m 300.7   \u001b[0m | \u001b[95m 17.33   \u001b[0m | \u001b[95m 1.141   \u001b[0m | \u001b[95m 20.18   \u001b[0m | \u001b[95m 0.8452  \u001b[0m |\n",
            "| \u001b[0m 7       \u001b[0m | \u001b[0m 0.5     \u001b[0m | \u001b[0m 0.4656  \u001b[0m | \u001b[0m 5.642   \u001b[0m | \u001b[0m 334.0   \u001b[0m | \u001b[0m 0.2742  \u001b[0m | \u001b[0m 18.73   \u001b[0m | \u001b[0m 24.55   \u001b[0m | \u001b[0m 0.7885  \u001b[0m |\n",
            "| \u001b[0m 8       \u001b[0m | \u001b[0m 0.8565  \u001b[0m | \u001b[0m 0.6697  \u001b[0m | \u001b[0m 6.257   \u001b[0m | \u001b[0m 331.5   \u001b[0m | \u001b[0m 6.936   \u001b[0m | \u001b[0m 11.78   \u001b[0m | \u001b[0m 16.08   \u001b[0m | \u001b[0m 0.8768  \u001b[0m |\n",
            "| \u001b[0m 9       \u001b[0m | \u001b[0m 0.5     \u001b[0m | \u001b[0m 0.6837  \u001b[0m | \u001b[0m 6.451   \u001b[0m | \u001b[0m 419.5   \u001b[0m | \u001b[0m 4.414   \u001b[0m | \u001b[0m 12.54   \u001b[0m | \u001b[0m 17.01   \u001b[0m | \u001b[0m 0.4069  \u001b[0m |\n",
            "| \u001b[0m 10      \u001b[0m | \u001b[0m 0.5     \u001b[0m | \u001b[0m 0.6174  \u001b[0m | \u001b[0m 5.584   \u001b[0m | \u001b[0m 381.9   \u001b[0m | \u001b[0m 0.8784  \u001b[0m | \u001b[0m 2.101   \u001b[0m | \u001b[0m 9.08    \u001b[0m | \u001b[0m 0.8494  \u001b[0m |\n",
            "| \u001b[0m 11      \u001b[0m | \u001b[0m 0.5     \u001b[0m | \u001b[0m 0.5214  \u001b[0m | \u001b[0m 5.507   \u001b[0m | \u001b[0m 445.9   \u001b[0m | \u001b[0m 4.907   \u001b[0m | \u001b[0m 11.82   \u001b[0m | \u001b[0m 36.98   \u001b[0m | \u001b[0m 0.4318  \u001b[0m |\n",
            "| \u001b[0m 12      \u001b[0m | \u001b[0m 0.676   \u001b[0m | \u001b[0m 0.4612  \u001b[0m | \u001b[0m 5.22    \u001b[0m | \u001b[0m 317.1   \u001b[0m | \u001b[0m 4.556   \u001b[0m | \u001b[0m 0.5157  \u001b[0m | \u001b[0m 16.07   \u001b[0m | \u001b[0m 0.8116  \u001b[0m |\n",
            "| \u001b[0m 13      \u001b[0m | \u001b[0m 0.5     \u001b[0m | \u001b[0m 0.456   \u001b[0m | \u001b[0m 6.242   \u001b[0m | \u001b[0m 365.6   \u001b[0m | \u001b[0m 11.7    \u001b[0m | \u001b[0m 10.43   \u001b[0m | \u001b[0m 38.64   \u001b[0m | \u001b[0m 0.3555  \u001b[0m |\n",
            "| \u001b[0m 14      \u001b[0m | \u001b[0m 0.8398  \u001b[0m | \u001b[0m 0.4242  \u001b[0m | \u001b[0m 6.193   \u001b[0m | \u001b[0m 311.7   \u001b[0m | \u001b[0m 17.33   \u001b[0m | \u001b[0m 4.355   \u001b[0m | \u001b[0m 17.78   \u001b[0m | \u001b[0m 0.8175  \u001b[0m |\n",
            "| \u001b[0m 15      \u001b[0m | \u001b[0m 0.5     \u001b[0m | \u001b[0m 0.6573  \u001b[0m | \u001b[0m 5.503   \u001b[0m | \u001b[0m 419.7   \u001b[0m | \u001b[0m 19.07   \u001b[0m | \u001b[0m 7.069   \u001b[0m | \u001b[0m 20.23   \u001b[0m | \u001b[0m 0.7245  \u001b[0m |\n",
            "| \u001b[0m 16      \u001b[0m | \u001b[0m 0.5     \u001b[0m | \u001b[0m 0.6198  \u001b[0m | \u001b[0m 6.298   \u001b[0m | \u001b[0m 306.5   \u001b[0m | \u001b[0m 3.849   \u001b[0m | \u001b[0m 16.2    \u001b[0m | \u001b[0m 33.06   \u001b[0m | \u001b[0m 0.3217  \u001b[0m |\n",
            "| \u001b[0m 17      \u001b[0m | \u001b[0m 0.5     \u001b[0m | \u001b[0m 0.5506  \u001b[0m | \u001b[0m 5.077   \u001b[0m | \u001b[0m 373.3   \u001b[0m | \u001b[0m 18.71   \u001b[0m | \u001b[0m 7.662   \u001b[0m | \u001b[0m 12.84   \u001b[0m | \u001b[0m 0.4867  \u001b[0m |\n",
            "| \u001b[0m 18      \u001b[0m | \u001b[0m 0.5     \u001b[0m | \u001b[0m 0.6195  \u001b[0m | \u001b[0m 6.845   \u001b[0m | \u001b[0m 428.0   \u001b[0m | \u001b[0m 16.13   \u001b[0m | \u001b[0m 3.559   \u001b[0m | \u001b[0m 36.12   \u001b[0m | \u001b[0m 0.6737  \u001b[0m |\n",
            "| \u001b[0m 19      \u001b[0m | \u001b[0m 0.5     \u001b[0m | \u001b[0m 0.6379  \u001b[0m | \u001b[0m 5.056   \u001b[0m | \u001b[0m 351.9   \u001b[0m | \u001b[0m 11.34   \u001b[0m | \u001b[0m 7.229   \u001b[0m | \u001b[0m 40.78   \u001b[0m | \u001b[0m 0.3815  \u001b[0m |\n",
            "| \u001b[0m 20      \u001b[0m | \u001b[0m 0.5     \u001b[0m | \u001b[0m 0.6059  \u001b[0m | \u001b[0m 6.642   \u001b[0m | \u001b[0m 449.5   \u001b[0m | \u001b[0m 7.122   \u001b[0m | \u001b[0m 12.61   \u001b[0m | \u001b[0m 4.793   \u001b[0m | \u001b[0m 0.3154  \u001b[0m |\n",
            "| \u001b[95m 21      \u001b[0m | \u001b[95m 0.8796  \u001b[0m | \u001b[95m 0.6968  \u001b[0m | \u001b[95m 5.344   \u001b[0m | \u001b[95m 329.3   \u001b[0m | \u001b[95m 6.239   \u001b[0m | \u001b[95m 16.24   \u001b[0m | \u001b[95m 15.09   \u001b[0m | \u001b[95m 0.9855  \u001b[0m |\n",
            "| \u001b[0m 22      \u001b[0m | \u001b[0m 0.5     \u001b[0m | \u001b[0m 0.5765  \u001b[0m | \u001b[0m 6.503   \u001b[0m | \u001b[0m 373.9   \u001b[0m | \u001b[0m 6.176   \u001b[0m | \u001b[0m 0.306   \u001b[0m | \u001b[0m 11.14   \u001b[0m | \u001b[0m 0.4558  \u001b[0m |\n",
            "| \u001b[0m 23      \u001b[0m | \u001b[0m 0.5     \u001b[0m | \u001b[0m 0.5159  \u001b[0m | \u001b[0m 6.78    \u001b[0m | \u001b[0m 466.9   \u001b[0m | \u001b[0m 11.77   \u001b[0m | \u001b[0m 9.014   \u001b[0m | \u001b[0m 49.73   \u001b[0m | \u001b[0m 0.3809  \u001b[0m |\n",
            "| \u001b[0m 24      \u001b[0m | \u001b[0m 0.5     \u001b[0m | \u001b[0m 0.6862  \u001b[0m | \u001b[0m 5.808   \u001b[0m | \u001b[0m 308.5   \u001b[0m | \u001b[0m 11.92   \u001b[0m | \u001b[0m 2.294   \u001b[0m | \u001b[0m 31.4    \u001b[0m | \u001b[0m 0.6777  \u001b[0m |\n",
            "| \u001b[0m 25      \u001b[0m | \u001b[0m 0.5     \u001b[0m | \u001b[0m 0.6764  \u001b[0m | \u001b[0m 5.64    \u001b[0m | \u001b[0m 473.2   \u001b[0m | \u001b[0m 1.809   \u001b[0m | \u001b[0m 16.55   \u001b[0m | \u001b[0m 5.224   \u001b[0m | \u001b[0m 0.9142  \u001b[0m |\n",
            "| \u001b[0m 26      \u001b[0m | \u001b[0m 0.5     \u001b[0m | \u001b[0m 0.6349  \u001b[0m | \u001b[0m 5.344   \u001b[0m | \u001b[0m 398.6   \u001b[0m | \u001b[0m 6.941   \u001b[0m | \u001b[0m 17.77   \u001b[0m | \u001b[0m 5.694   \u001b[0m | \u001b[0m 0.6546  \u001b[0m |\n",
            "| \u001b[0m 27      \u001b[0m | \u001b[0m 0.5     \u001b[0m | \u001b[0m 0.5049  \u001b[0m | \u001b[0m 6.121   \u001b[0m | \u001b[0m 477.8   \u001b[0m | \u001b[0m 13.75   \u001b[0m | \u001b[0m 12.57   \u001b[0m | \u001b[0m 48.57   \u001b[0m | \u001b[0m 0.3589  \u001b[0m |\n",
            "| \u001b[0m 28      \u001b[0m | \u001b[0m 0.5     \u001b[0m | \u001b[0m 0.4364  \u001b[0m | \u001b[0m 5.367   \u001b[0m | \u001b[0m 355.6   \u001b[0m | \u001b[0m 18.9    \u001b[0m | \u001b[0m 0.5628  \u001b[0m | \u001b[0m 18.96   \u001b[0m | \u001b[0m 0.8199  \u001b[0m |\n",
            "| \u001b[0m 29      \u001b[0m | \u001b[0m 0.5     \u001b[0m | \u001b[0m 0.5767  \u001b[0m | \u001b[0m 5.726   \u001b[0m | \u001b[0m 334.8   \u001b[0m | \u001b[0m 14.49   \u001b[0m | \u001b[0m 14.34   \u001b[0m | \u001b[0m 35.37   \u001b[0m | \u001b[0m 0.6211  \u001b[0m |\n",
            "| \u001b[0m 30      \u001b[0m | \u001b[0m 0.5     \u001b[0m | \u001b[0m 0.4271  \u001b[0m | \u001b[0m 5.837   \u001b[0m | \u001b[0m 363.5   \u001b[0m | \u001b[0m 2.658   \u001b[0m | \u001b[0m 9.351   \u001b[0m | \u001b[0m 35.55   \u001b[0m | \u001b[0m 0.7001  \u001b[0m |\n",
            "| \u001b[0m 31      \u001b[0m | \u001b[0m 0.5     \u001b[0m | \u001b[0m 0.7     \u001b[0m | \u001b[0m 7.0     \u001b[0m | \u001b[0m 300.0   \u001b[0m | \u001b[0m 20.0    \u001b[0m | \u001b[0m 20.0    \u001b[0m | \u001b[0m 0.0     \u001b[0m | \u001b[0m 0.3     \u001b[0m |\n",
            "| \u001b[0m 32      \u001b[0m | \u001b[0m 0.8709  \u001b[0m | \u001b[0m 0.7     \u001b[0m | \u001b[0m 5.0     \u001b[0m | \u001b[0m 341.0   \u001b[0m | \u001b[0m 20.0    \u001b[0m | \u001b[0m 20.0    \u001b[0m | \u001b[0m 0.0     \u001b[0m | \u001b[0m 1.0     \u001b[0m |\n",
            "| \u001b[0m 33      \u001b[0m | \u001b[0m 0.5     \u001b[0m | \u001b[0m 0.4     \u001b[0m | \u001b[0m 5.0     \u001b[0m | \u001b[0m 500.0   \u001b[0m | \u001b[0m 0.0     \u001b[0m | \u001b[0m 0.0     \u001b[0m | \u001b[0m 0.0     \u001b[0m | \u001b[0m 0.3     \u001b[0m |\n",
            "| \u001b[0m 34      \u001b[0m | \u001b[0m 0.8796  \u001b[0m | \u001b[0m 0.7     \u001b[0m | \u001b[0m 7.0     \u001b[0m | \u001b[0m 334.1   \u001b[0m | \u001b[0m 0.0     \u001b[0m | \u001b[0m 11.82   \u001b[0m | \u001b[0m 0.0     \u001b[0m | \u001b[0m 1.0     \u001b[0m |\n",
            "| \u001b[95m 35      \u001b[0m | \u001b[95m 0.8827  \u001b[0m | \u001b[95m 0.7     \u001b[0m | \u001b[95m 5.0     \u001b[0m | \u001b[95m 324.3   \u001b[0m | \u001b[95m 20.0    \u001b[0m | \u001b[95m 0.0     \u001b[0m | \u001b[95m 0.0     \u001b[0m | \u001b[95m 1.0     \u001b[0m |\n",
            "| \u001b[95m 36      \u001b[0m | \u001b[95m 0.8844  \u001b[0m | \u001b[95m 0.7     \u001b[0m | \u001b[95m 5.0     \u001b[0m | \u001b[95m 300.0   \u001b[0m | \u001b[95m 20.0    \u001b[0m | \u001b[95m 20.0    \u001b[0m | \u001b[95m 50.0    \u001b[0m | \u001b[95m 1.0     \u001b[0m |\n",
            "| \u001b[0m 37      \u001b[0m | \u001b[0m 0.5     \u001b[0m | \u001b[0m 0.7     \u001b[0m | \u001b[0m 5.0     \u001b[0m | \u001b[0m 500.0   \u001b[0m | \u001b[0m 20.0    \u001b[0m | \u001b[0m 0.0     \u001b[0m | \u001b[0m 50.0    \u001b[0m | \u001b[0m 1.0     \u001b[0m |\n",
            "| \u001b[0m 38      \u001b[0m | \u001b[0m 0.5     \u001b[0m | \u001b[0m 0.7     \u001b[0m | \u001b[0m 7.0     \u001b[0m | \u001b[0m 500.0   \u001b[0m | \u001b[0m 20.0    \u001b[0m | \u001b[0m 20.0    \u001b[0m | \u001b[0m 0.0     \u001b[0m | \u001b[0m 1.0     \u001b[0m |\n",
            "| \u001b[0m 39      \u001b[0m | \u001b[0m 0.5     \u001b[0m | \u001b[0m 0.6502  \u001b[0m | \u001b[0m 5.04    \u001b[0m | \u001b[0m 327.4   \u001b[0m | \u001b[0m 16.66   \u001b[0m | \u001b[0m 14.23   \u001b[0m | \u001b[0m 8.108   \u001b[0m | \u001b[0m 0.7911  \u001b[0m |\n",
            "| \u001b[0m 40      \u001b[0m | \u001b[0m 0.864   \u001b[0m | \u001b[0m 0.7     \u001b[0m | \u001b[0m 5.0     \u001b[0m | \u001b[0m 361.8   \u001b[0m | \u001b[0m 0.0     \u001b[0m | \u001b[0m 20.0    \u001b[0m | \u001b[0m 0.0     \u001b[0m | \u001b[0m 1.0     \u001b[0m |\n",
            "| \u001b[0m 41      \u001b[0m | \u001b[0m 0.83    \u001b[0m | \u001b[0m 0.7     \u001b[0m | \u001b[0m 7.0     \u001b[0m | \u001b[0m 387.9   \u001b[0m | \u001b[0m 0.0     \u001b[0m | \u001b[0m 0.0     \u001b[0m | \u001b[0m 50.0    \u001b[0m | \u001b[0m 1.0     \u001b[0m |\n",
            "| \u001b[0m 42      \u001b[0m | \u001b[0m 0.7812  \u001b[0m | \u001b[0m 0.7     \u001b[0m | \u001b[0m 7.0     \u001b[0m | \u001b[0m 390.4   \u001b[0m | \u001b[0m 0.0     \u001b[0m | \u001b[0m 20.0    \u001b[0m | \u001b[0m 50.0    \u001b[0m | \u001b[0m 1.0     \u001b[0m |\n",
            "| \u001b[95m 43      \u001b[0m | \u001b[95m 0.8872  \u001b[0m | \u001b[95m 0.7     \u001b[0m | \u001b[95m 7.0     \u001b[0m | \u001b[95m 300.0   \u001b[0m | \u001b[95m 0.0     \u001b[0m | \u001b[95m 0.0     \u001b[0m | \u001b[95m 0.0     \u001b[0m | \u001b[95m 1.0     \u001b[0m |\n",
            "| \u001b[0m 44      \u001b[0m | \u001b[0m 0.5     \u001b[0m | \u001b[0m 0.7     \u001b[0m | \u001b[0m 5.0     \u001b[0m | \u001b[0m 468.7   \u001b[0m | \u001b[0m 20.0    \u001b[0m | \u001b[0m 0.0     \u001b[0m | \u001b[0m 0.0     \u001b[0m | \u001b[0m 1.0     \u001b[0m |\n",
            "| \u001b[0m 45      \u001b[0m | \u001b[0m 0.864   \u001b[0m | \u001b[0m 0.7     \u001b[0m | \u001b[0m 7.0     \u001b[0m | \u001b[0m 363.0   \u001b[0m | \u001b[0m 20.0    \u001b[0m | \u001b[0m 20.0    \u001b[0m | \u001b[0m 0.0     \u001b[0m | \u001b[0m 1.0     \u001b[0m |\n",
            "| \u001b[0m 46      \u001b[0m | \u001b[0m 0.5     \u001b[0m | \u001b[0m 0.4117  \u001b[0m | \u001b[0m 6.958   \u001b[0m | \u001b[0m 301.5   \u001b[0m | \u001b[0m 16.93   \u001b[0m | \u001b[0m 1.282   \u001b[0m | \u001b[0m 0.709   \u001b[0m | \u001b[0m 0.3005  \u001b[0m |\n",
            "| \u001b[0m 47      \u001b[0m | \u001b[0m 0.5     \u001b[0m | \u001b[0m 0.5085  \u001b[0m | \u001b[0m 5.807   \u001b[0m | \u001b[0m 301.4   \u001b[0m | \u001b[0m 0.2767  \u001b[0m | \u001b[0m 19.01   \u001b[0m | \u001b[0m 3.186   \u001b[0m | \u001b[0m 0.4809  \u001b[0m |\n",
            "| \u001b[0m 48      \u001b[0m | \u001b[0m 0.5     \u001b[0m | \u001b[0m 0.7     \u001b[0m | \u001b[0m 7.0     \u001b[0m | \u001b[0m 424.0   \u001b[0m | \u001b[0m 0.0     \u001b[0m | \u001b[0m 0.0     \u001b[0m | \u001b[0m 0.0     \u001b[0m | \u001b[0m 1.0     \u001b[0m |\n",
            "| \u001b[0m 49      \u001b[0m | \u001b[0m 0.8137  \u001b[0m | \u001b[0m 0.7     \u001b[0m | \u001b[0m 5.0     \u001b[0m | \u001b[0m 389.3   \u001b[0m | \u001b[0m 20.0    \u001b[0m | \u001b[0m 20.0    \u001b[0m | \u001b[0m 50.0    \u001b[0m | \u001b[0m 1.0     \u001b[0m |\n",
            "| \u001b[0m 50      \u001b[0m | \u001b[0m 0.8844  \u001b[0m | \u001b[0m 0.7     \u001b[0m | \u001b[0m 5.0     \u001b[0m | \u001b[0m 300.0   \u001b[0m | \u001b[0m 20.0    \u001b[0m | \u001b[0m 20.0    \u001b[0m | \u001b[0m 27.66   \u001b[0m | \u001b[0m 1.0     \u001b[0m |\n",
            "| \u001b[0m 51      \u001b[0m | \u001b[0m 0.5     \u001b[0m | \u001b[0m 0.6217  \u001b[0m | \u001b[0m 6.412   \u001b[0m | \u001b[0m 349.8   \u001b[0m | \u001b[0m 14.79   \u001b[0m | \u001b[0m 1.665   \u001b[0m | \u001b[0m 0.5951  \u001b[0m | \u001b[0m 0.3343  \u001b[0m |\n",
            "| \u001b[0m 52      \u001b[0m | \u001b[0m 0.5     \u001b[0m | \u001b[0m 0.4     \u001b[0m | \u001b[0m 7.0     \u001b[0m | \u001b[0m 429.0   \u001b[0m | \u001b[0m 20.0    \u001b[0m | \u001b[0m 20.0    \u001b[0m | \u001b[0m 0.0     \u001b[0m | \u001b[0m 1.0     \u001b[0m |\n",
            "| \u001b[0m 53      \u001b[0m | \u001b[0m 0.7795  \u001b[0m | \u001b[0m 0.7     \u001b[0m | \u001b[0m 5.0     \u001b[0m | \u001b[0m 390.3   \u001b[0m | \u001b[0m 20.0    \u001b[0m | \u001b[0m 0.0     \u001b[0m | \u001b[0m 50.0    \u001b[0m | \u001b[0m 1.0     \u001b[0m |\n",
            "| \u001b[0m 54      \u001b[0m | \u001b[0m 0.5     \u001b[0m | \u001b[0m 0.7     \u001b[0m | \u001b[0m 5.0     \u001b[0m | \u001b[0m 477.3   \u001b[0m | \u001b[0m 0.0     \u001b[0m | \u001b[0m 0.0     \u001b[0m | \u001b[0m 30.73   \u001b[0m | \u001b[0m 1.0     \u001b[0m |\n",
            "| \u001b[0m 55      \u001b[0m | \u001b[0m 0.8796  \u001b[0m | \u001b[0m 0.7     \u001b[0m | \u001b[0m 7.0     \u001b[0m | \u001b[0m 333.7   \u001b[0m | \u001b[0m 20.0    \u001b[0m | \u001b[0m 0.0     \u001b[0m | \u001b[0m 50.0    \u001b[0m | \u001b[0m 1.0     \u001b[0m |\n",
            "| \u001b[95m 56      \u001b[0m | \u001b[95m 0.8878  \u001b[0m | \u001b[95m 0.7     \u001b[0m | \u001b[95m 7.0     \u001b[0m | \u001b[95m 300.0   \u001b[0m | \u001b[95m 20.0    \u001b[0m | \u001b[95m 0.0     \u001b[0m | \u001b[95m 50.0    \u001b[0m | \u001b[95m 1.0     \u001b[0m |\n",
            "| \u001b[0m 57      \u001b[0m | \u001b[0m 0.5     \u001b[0m | \u001b[0m 0.7     \u001b[0m | \u001b[0m 5.0     \u001b[0m | \u001b[0m 500.0   \u001b[0m | \u001b[0m 0.0     \u001b[0m | \u001b[0m 20.0    \u001b[0m | \u001b[0m 22.34   \u001b[0m | \u001b[0m 1.0     \u001b[0m |\n",
            "| \u001b[0m 58      \u001b[0m | \u001b[0m 0.5     \u001b[0m | \u001b[0m 0.4388  \u001b[0m | \u001b[0m 5.458   \u001b[0m | \u001b[0m 388.9   \u001b[0m | \u001b[0m 18.42   \u001b[0m | \u001b[0m 19.85   \u001b[0m | \u001b[0m 48.7    \u001b[0m | \u001b[0m 0.7425  \u001b[0m |\n",
            "| \u001b[0m 59      \u001b[0m | \u001b[0m 0.5     \u001b[0m | \u001b[0m 0.7     \u001b[0m | \u001b[0m 5.0     \u001b[0m | \u001b[0m 398.5   \u001b[0m | \u001b[0m 20.0    \u001b[0m | \u001b[0m 0.0     \u001b[0m | \u001b[0m 0.0     \u001b[0m | \u001b[0m 1.0     \u001b[0m |\n",
            "| \u001b[0m 60      \u001b[0m | \u001b[0m 0.8659  \u001b[0m | \u001b[0m 0.7     \u001b[0m | \u001b[0m 5.0     \u001b[0m | \u001b[0m 356.0   \u001b[0m | \u001b[0m 20.0    \u001b[0m | \u001b[0m 20.0    \u001b[0m | \u001b[0m 50.0    \u001b[0m | \u001b[0m 1.0     \u001b[0m |\n",
            "=============================================================================================================\n"
          ],
          "name": "stdout"
        }
      ]
    },
    {
      "cell_type": "code",
      "metadata": {
        "colab": {
          "base_uri": "https://localhost:8080/"
        },
        "id": "sTj2JyJ9GZuW",
        "outputId": "c2d58b8e-c8f3-4af3-cad5-b771d5b50295"
      },
      "source": [
        "len(lgbo.res)"
      ],
      "execution_count": 68,
      "outputs": [
        {
          "output_type": "execute_result",
          "data": {
            "text/plain": [
              "60"
            ]
          },
          "metadata": {
            "tags": []
          },
          "execution_count": 68
        }
      ]
    },
    {
      "cell_type": "markdown",
      "metadata": {
        "id": "EWPcvDLVGZuY"
      },
      "source": [
        "### Finding optimal set of parameters"
      ]
    },
    {
      "cell_type": "code",
      "metadata": {
        "id": "aplb37DTGZuZ"
      },
      "source": [
        "max_target=max([lgbo.res[elem]['target'] for elem in range(len(lgbo.res))])\n",
        "opt_params=[elem['params'] for elem in lgbo.res if elem['target']==max_target][0]"
      ],
      "execution_count": 69,
      "outputs": []
    },
    {
      "cell_type": "markdown",
      "metadata": {
        "id": "XC0peB5BGZuZ"
      },
      "source": [
        "### Updating the model parameters"
      ]
    },
    {
      "cell_type": "code",
      "metadata": {
        "id": "GfW5P6oWGZuc"
      },
      "source": [
        "opt_params.update({\n",
        "    'objective': 'binary',\n",
        "    'metric': 'auc',\n",
        "    'boosting': 'gbdt',\n",
        "    'random_state' : 501, # Updated from 'seed'\n",
        "    'n_estimators' : 200,\n",
        "    'learning_rate': 0.1,\n",
        "    'early_stopping_round' : 10,\n",
        "    'verbose': 20,\n",
        "    'num_leaves': 65,\n",
        "    'min_data_in_leaf': 500,\n",
        "    'bagging_freq': 1,\n",
        "    'bagging_seed': RS,\n",
        "    'feature_fraction_seed': RS,\n",
        "    'max_bin': 50})\n",
        "opt_params['min_child_weight'] = int(opt_params['min_child_weight'])\n",
        "opt_params['colsample_bytree'] = max(min(opt_params['colsample_bytree'], 1), 0)\n",
        "opt_params['max_depth'] = int(opt_params['max_depth'])\n",
        "opt_params['subsample'] = max(min(opt_params['subsample'], 1), 0)\n",
        "opt_params['min_gain_to_split'] = max(opt_params['min_gain_to_split'],0)\n",
        "opt_params['reg_alpha'] = max(opt_params['reg_alpha'],0)\n",
        "opt_params['reg_lambda'] = max(opt_params['reg_lambda'],0)"
      ],
      "execution_count": 70,
      "outputs": []
    },
    {
      "cell_type": "code",
      "metadata": {
        "colab": {
          "base_uri": "https://localhost:8080/"
        },
        "id": "5TMq_1YUGZuc",
        "scrolled": true,
        "outputId": "a3f687d1-72ff-4948-9162-301f69c68ab3"
      },
      "source": [
        "opt_params"
      ],
      "execution_count": 71,
      "outputs": [
        {
          "output_type": "execute_result",
          "data": {
            "text/plain": [
              "{'bagging_freq': 1,\n",
              " 'bagging_seed': 20200801,\n",
              " 'boosting': 'gbdt',\n",
              " 'colsample_bytree': 0.7,\n",
              " 'early_stopping_round': 10,\n",
              " 'feature_fraction_seed': 20200801,\n",
              " 'learning_rate': 0.1,\n",
              " 'max_bin': 50,\n",
              " 'max_depth': 7,\n",
              " 'metric': 'auc',\n",
              " 'min_child_weight': 300,\n",
              " 'min_data_in_leaf': 500,\n",
              " 'min_gain_to_split': 20.0,\n",
              " 'n_estimators': 200,\n",
              " 'num_leaves': 65,\n",
              " 'objective': 'binary',\n",
              " 'random_state': 501,\n",
              " 'reg_alpha': 0.0,\n",
              " 'reg_lambda': 50.0,\n",
              " 'subsample': 1.0,\n",
              " 'verbose': 20}"
            ]
          },
          "metadata": {
            "tags": []
          },
          "execution_count": 71
        }
      ]
    },
    {
      "cell_type": "markdown",
      "metadata": {
        "id": "dKy6iIzcGZud"
      },
      "source": [
        "### Training the model on our optimal set of parameters"
      ]
    },
    {
      "cell_type": "code",
      "metadata": {
        "id": "hbSZYF-uGZue"
      },
      "source": [
        "lgb_train = lgb.Dataset(X_train, y_train)\n",
        "lgb_eval = lgb.Dataset(X_val, y_val, reference=lgb_train)"
      ],
      "execution_count": 72,
      "outputs": []
    },
    {
      "cell_type": "code",
      "metadata": {
        "colab": {
          "base_uri": "https://localhost:8080/"
        },
        "id": "7akiNcitGZue",
        "scrolled": true,
        "outputId": "2d52421f-55ba-42de-ce9d-420816eee2c7"
      },
      "source": [
        "lgb_model = lgb.train(opt_params, lgb_train, valid_sets=lgb_eval)"
      ],
      "execution_count": 73,
      "outputs": [
        {
          "output_type": "stream",
          "text": [
            "[1]\tvalid_0's auc: 0.859185\n",
            "Training until validation scores don't improve for 10 rounds.\n",
            "[2]\tvalid_0's auc: 0.861899\n",
            "[3]\tvalid_0's auc: 0.863057\n",
            "[4]\tvalid_0's auc: 0.87003\n",
            "[5]\tvalid_0's auc: 0.870424\n",
            "[6]\tvalid_0's auc: 0.869427\n",
            "[7]\tvalid_0's auc: 0.869427\n",
            "[8]\tvalid_0's auc: 0.869427\n",
            "[9]\tvalid_0's auc: 0.869427\n",
            "[10]\tvalid_0's auc: 0.869427\n",
            "[11]\tvalid_0's auc: 0.874451\n",
            "[12]\tvalid_0's auc: 0.874451\n",
            "[13]\tvalid_0's auc: 0.874451\n",
            "[14]\tvalid_0's auc: 0.877673\n",
            "[15]\tvalid_0's auc: 0.877673\n",
            "[16]\tvalid_0's auc: 0.877673\n",
            "[17]\tvalid_0's auc: 0.877679\n",
            "[18]\tvalid_0's auc: 0.891763\n",
            "[19]\tvalid_0's auc: 0.891763\n",
            "[20]\tvalid_0's auc: 0.891775\n",
            "[21]\tvalid_0's auc: 0.891775\n",
            "[22]\tvalid_0's auc: 0.911424\n",
            "[23]\tvalid_0's auc: 0.911424\n",
            "[24]\tvalid_0's auc: 0.911424\n",
            "[25]\tvalid_0's auc: 0.911424\n",
            "[26]\tvalid_0's auc: 0.911424\n",
            "[27]\tvalid_0's auc: 0.911593\n",
            "[28]\tvalid_0's auc: 0.9113\n",
            "[29]\tvalid_0's auc: 0.9113\n",
            "[30]\tvalid_0's auc: 0.9113\n",
            "[31]\tvalid_0's auc: 0.9113\n",
            "[32]\tvalid_0's auc: 0.9113\n",
            "[33]\tvalid_0's auc: 0.9113\n",
            "[34]\tvalid_0's auc: 0.9113\n",
            "[35]\tvalid_0's auc: 0.9113\n",
            "[36]\tvalid_0's auc: 0.9113\n",
            "[37]\tvalid_0's auc: 0.9113\n",
            "Early stopping, best iteration is:\n",
            "[27]\tvalid_0's auc: 0.911593\n"
          ],
          "name": "stdout"
        }
      ]
    },
    {
      "cell_type": "markdown",
      "metadata": {
        "id": "oWWKH2j8GZue"
      },
      "source": [
        "### Getting model probabilities on the three datasets"
      ]
    },
    {
      "cell_type": "code",
      "metadata": {
        "id": "xVoZ6CPyGZuf"
      },
      "source": [
        "train_preds_lgb=lgb_model.predict(X_train)\n",
        "val_preds_lgb=lgb_model.predict(X_val)\n",
        "test_preds_lgb=lgb_model.predict(X_test)"
      ],
      "execution_count": 74,
      "outputs": []
    },
    {
      "cell_type": "code",
      "metadata": {
        "colab": {
          "base_uri": "https://localhost:8080/"
        },
        "id": "22AkALRZ8g-E",
        "outputId": "9993a0a9-8d1e-4a14-98bb-cff22086e7af"
      },
      "source": [
        "train_preds_lgb"
      ],
      "execution_count": 75,
      "outputs": [
        {
          "output_type": "execute_result",
          "data": {
            "text/plain": [
              "array([0.45557712, 0.81403104, 0.14303023, ..., 0.17576533, 0.81119446,\n",
              "       0.15470291])"
            ]
          },
          "metadata": {
            "tags": []
          },
          "execution_count": 75
        }
      ]
    },
    {
      "cell_type": "markdown",
      "metadata": {
        "id": "eM5VsPt8GZuf"
      },
      "source": [
        "### Evaluating model performance using metrics like roc-auc and confusion matrix"
      ]
    },
    {
      "cell_type": "code",
      "metadata": {
        "id": "JI9djzpLGZug"
      },
      "source": [
        "# Convert the probs to classes\n",
        "train_preds_lgb = np.where(train_preds_lgb > 0.5,1,0)\n",
        "val_preds_lgb   = np.where(val_preds_lgb > 0.5,1,0)\n",
        "test_preds_lgb  = np.where(test_preds_lgb > 0.5,1,0)"
      ],
      "execution_count": 76,
      "outputs": []
    },
    {
      "cell_type": "code",
      "metadata": {
        "colab": {
          "base_uri": "https://localhost:8080/"
        },
        "id": "R9Q-ho3S8cWu",
        "outputId": "e084c415-6a6a-499d-f065-58345de4a8c1"
      },
      "source": [
        "train_preds_lgb"
      ],
      "execution_count": 77,
      "outputs": [
        {
          "output_type": "execute_result",
          "data": {
            "text/plain": [
              "array([0, 1, 0, ..., 0, 1, 0])"
            ]
          },
          "metadata": {
            "tags": []
          },
          "execution_count": 77
        }
      ]
    },
    {
      "cell_type": "code",
      "metadata": {
        "colab": {
          "base_uri": "https://localhost:8080/"
        },
        "id": "9-Jmm9cBGZug",
        "scrolled": true,
        "outputId": "65eb0fcc-7bee-48d1-9cac-7e329ccb7897"
      },
      "source": [
        "print(accuracy_score(y_train,train_preds_lgb))\n",
        "print(accuracy_score(y_val,val_preds_lgb))\n",
        "print(accuracy_score(y_test,test_preds_lgb))"
      ],
      "execution_count": 78,
      "outputs": [
        {
          "output_type": "stream",
          "text": [
            "0.8609422492401215\n",
            "0.8626045400238949\n",
            "0.8529411764705882\n"
          ],
          "name": "stdout"
        }
      ]
    },
    {
      "cell_type": "code",
      "metadata": {
        "colab": {
          "base_uri": "https://localhost:8080/"
        },
        "id": "jVkBrlizGZug",
        "scrolled": true,
        "outputId": "ce52a120-8c67-42ec-ddf7-182a0d5bb35d"
      },
      "source": [
        "# Confusion Matrix\n",
        "conf_matrix_train = confusion_matrix(y_train,train_preds_lgb)\n",
        "conf_matrix_val = confusion_matrix(y_val,val_preds_lgb)\n",
        "conf_matrix_test = confusion_matrix(y_test,test_preds_lgb)\n",
        "print(\"The Confusion Matrix for Train Set \\n\",conf_matrix_train)\n",
        "print(\"\\n\")\n",
        "print(\"The Confusion Matrix for Validation Set \\n\",conf_matrix_val)\n",
        "print(\"\\n\")\n",
        "print(\"The Confusion Matrix for Test Set \\n\",conf_matrix_test)"
      ],
      "execution_count": 79,
      "outputs": [
        {
          "output_type": "stream",
          "text": [
            "The Confusion Matrix for Train Set \n",
            " [[1844  272]\n",
            " [ 277 1555]]\n",
            "\n",
            "\n",
            "The Confusion Matrix for Validation Set \n",
            " [[408  45]\n",
            " [ 70 314]]\n",
            "\n",
            "\n",
            "The Confusion Matrix for Test Set \n",
            " [[236  33]\n",
            " [ 37 170]]\n"
          ],
          "name": "stdout"
        }
      ]
    },
    {
      "cell_type": "markdown",
      "metadata": {
        "id": "vviLsLghDGMH"
      },
      "source": [
        "### Feature Importance\n",
        "using shap "
      ]
    },
    {
      "cell_type": "code",
      "metadata": {
        "colab": {
          "base_uri": "https://localhost:8080/"
        },
        "id": "vvit5GOCt80R",
        "outputId": "02282541-f055-4a04-84e9-d8c0397fa338"
      },
      "source": [
        "pip install shap"
      ],
      "execution_count": 81,
      "outputs": [
        {
          "output_type": "stream",
          "text": [
            "Collecting shap\n",
            "\u001b[?25l  Downloading https://files.pythonhosted.org/packages/b9/f4/c5b95cddae15be80f8e58b25edceca105aa83c0b8c86a1edad24a6af80d3/shap-0.39.0.tar.gz (356kB)\n",
            "\r\u001b[K     |█                               | 10kB 14.7MB/s eta 0:00:01\r\u001b[K     |█▉                              | 20kB 9.3MB/s eta 0:00:01\r\u001b[K     |██▊                             | 30kB 5.9MB/s eta 0:00:01\r\u001b[K     |███▊                            | 40kB 5.4MB/s eta 0:00:01\r\u001b[K     |████▋                           | 51kB 2.9MB/s eta 0:00:01\r\u001b[K     |█████▌                          | 61kB 3.3MB/s eta 0:00:01\r\u001b[K     |██████▍                         | 71kB 3.5MB/s eta 0:00:01\r\u001b[K     |███████▍                        | 81kB 3.7MB/s eta 0:00:01\r\u001b[K     |████████▎                       | 92kB 3.6MB/s eta 0:00:01\r\u001b[K     |█████████▏                      | 102kB 3.9MB/s eta 0:00:01\r\u001b[K     |██████████▏                     | 112kB 3.9MB/s eta 0:00:01\r\u001b[K     |███████████                     | 122kB 3.9MB/s eta 0:00:01\r\u001b[K     |████████████                    | 133kB 3.9MB/s eta 0:00:01\r\u001b[K     |████████████▉                   | 143kB 3.9MB/s eta 0:00:01\r\u001b[K     |█████████████▉                  | 153kB 3.9MB/s eta 0:00:01\r\u001b[K     |██████████████▊                 | 163kB 3.9MB/s eta 0:00:01\r\u001b[K     |███████████████▋                | 174kB 3.9MB/s eta 0:00:01\r\u001b[K     |████████████████▋               | 184kB 3.9MB/s eta 0:00:01\r\u001b[K     |█████████████████▌              | 194kB 3.9MB/s eta 0:00:01\r\u001b[K     |██████████████████▍             | 204kB 3.9MB/s eta 0:00:01\r\u001b[K     |███████████████████▎            | 215kB 3.9MB/s eta 0:00:01\r\u001b[K     |████████████████████▎           | 225kB 3.9MB/s eta 0:00:01\r\u001b[K     |█████████████████████▏          | 235kB 3.9MB/s eta 0:00:01\r\u001b[K     |██████████████████████          | 245kB 3.9MB/s eta 0:00:01\r\u001b[K     |███████████████████████         | 256kB 3.9MB/s eta 0:00:01\r\u001b[K     |████████████████████████        | 266kB 3.9MB/s eta 0:00:01\r\u001b[K     |████████████████████████▉       | 276kB 3.9MB/s eta 0:00:01\r\u001b[K     |█████████████████████████▊      | 286kB 3.9MB/s eta 0:00:01\r\u001b[K     |██████████████████████████▊     | 296kB 3.9MB/s eta 0:00:01\r\u001b[K     |███████████████████████████▋    | 307kB 3.9MB/s eta 0:00:01\r\u001b[K     |████████████████████████████▌   | 317kB 3.9MB/s eta 0:00:01\r\u001b[K     |█████████████████████████████▍  | 327kB 3.9MB/s eta 0:00:01\r\u001b[K     |██████████████████████████████▍ | 337kB 3.9MB/s eta 0:00:01\r\u001b[K     |███████████████████████████████▎| 348kB 3.9MB/s eta 0:00:01\r\u001b[K     |████████████████████████████████| 358kB 3.9MB/s \n",
            "\u001b[?25hRequirement already satisfied: numpy in /usr/local/lib/python3.7/dist-packages (from shap) (1.19.5)\n",
            "Requirement already satisfied: scipy in /usr/local/lib/python3.7/dist-packages (from shap) (1.4.1)\n",
            "Requirement already satisfied: scikit-learn in /usr/local/lib/python3.7/dist-packages (from shap) (0.22.2.post1)\n",
            "Requirement already satisfied: pandas in /usr/local/lib/python3.7/dist-packages (from shap) (1.1.5)\n",
            "Requirement already satisfied: tqdm>4.25.0 in /usr/local/lib/python3.7/dist-packages (from shap) (4.41.1)\n",
            "Collecting slicer==0.0.7\n",
            "  Downloading https://files.pythonhosted.org/packages/78/c2/b3f55dfdb8af9812fdb9baf70cacf3b9e82e505b2bd4324d588888b81202/slicer-0.0.7-py3-none-any.whl\n",
            "Requirement already satisfied: numba in /usr/local/lib/python3.7/dist-packages (from shap) (0.51.2)\n",
            "Requirement already satisfied: cloudpickle in /usr/local/lib/python3.7/dist-packages (from shap) (1.3.0)\n",
            "Requirement already satisfied: joblib>=0.11 in /usr/local/lib/python3.7/dist-packages (from scikit-learn->shap) (1.0.1)\n",
            "Requirement already satisfied: python-dateutil>=2.7.3 in /usr/local/lib/python3.7/dist-packages (from pandas->shap) (2.8.1)\n",
            "Requirement already satisfied: pytz>=2017.2 in /usr/local/lib/python3.7/dist-packages (from pandas->shap) (2018.9)\n",
            "Requirement already satisfied: setuptools in /usr/local/lib/python3.7/dist-packages (from numba->shap) (56.1.0)\n",
            "Requirement already satisfied: llvmlite<0.35,>=0.34.0.dev0 in /usr/local/lib/python3.7/dist-packages (from numba->shap) (0.34.0)\n",
            "Requirement already satisfied: six>=1.5 in /usr/local/lib/python3.7/dist-packages (from python-dateutil>=2.7.3->pandas->shap) (1.15.0)\n",
            "Building wheels for collected packages: shap\n",
            "  Building wheel for shap (setup.py) ... \u001b[?25l\u001b[?25hdone\n",
            "  Created wheel for shap: filename=shap-0.39.0-cp37-cp37m-linux_x86_64.whl size=491616 sha256=6863a1368d40f5685cce9f9ef9f7fee0ad6eab21b4b94e2f4d785d30b7768426\n",
            "  Stored in directory: /root/.cache/pip/wheels/15/27/f5/a8ab9da52fd159aae6477b5ede6eaaec69fd130fa0fa59f283\n",
            "Successfully built shap\n",
            "Installing collected packages: slicer, shap\n",
            "Successfully installed shap-0.39.0 slicer-0.0.7\n"
          ],
          "name": "stdout"
        }
      ]
    },
    {
      "cell_type": "code",
      "metadata": {
        "id": "vOS8Kkz8JBZT",
        "colab": {
          "base_uri": "https://localhost:8080/",
          "height": 335
        },
        "outputId": "93f7dbe8-cf43-4332-a057-ca141f61b925"
      },
      "source": [
        "import shap\n"
      ],
      "execution_count": 80,
      "outputs": [
        {
          "output_type": "error",
          "ename": "ModuleNotFoundError",
          "evalue": "ignored",
          "traceback": [
            "\u001b[0;31m---------------------------------------------------------------------------\u001b[0m",
            "\u001b[0;31mModuleNotFoundError\u001b[0m                       Traceback (most recent call last)",
            "\u001b[0;32m<ipython-input-80-57047d62e0cd>\u001b[0m in \u001b[0;36m<module>\u001b[0;34m()\u001b[0m\n\u001b[0;32m----> 1\u001b[0;31m \u001b[0;32mimport\u001b[0m \u001b[0mshap\u001b[0m\u001b[0;34m\u001b[0m\u001b[0;34m\u001b[0m\u001b[0m\n\u001b[0m\u001b[1;32m      2\u001b[0m \u001b[0mshap\u001b[0m\u001b[0;34m.\u001b[0m\u001b[0minitjs\u001b[0m\u001b[0;34m(\u001b[0m\u001b[0;34m)\u001b[0m\u001b[0;34m\u001b[0m\u001b[0;34m\u001b[0m\u001b[0m\n",
            "\u001b[0;31mModuleNotFoundError\u001b[0m: No module named 'shap'",
            "",
            "\u001b[0;31m---------------------------------------------------------------------------\u001b[0;32m\nNOTE: If your import is failing due to a missing package, you can\nmanually install dependencies using either !pip or !apt.\n\nTo view examples of installing some common dependencies, click the\n\"Open Examples\" button below.\n\u001b[0;31m---------------------------------------------------------------------------\u001b[0m\n"
          ]
        }
      ]
    },
    {
      "cell_type": "markdown",
      "metadata": {
        "id": "jjTnj85GE6QB"
      },
      "source": [
        "Feature importance in Training set"
      ]
    },
    {
      "cell_type": "code",
      "metadata": {
        "id": "EE5IZZlODdNo"
      },
      "source": [
        "X_shap=X_train\n",
        "explainer = shap.TreeExplainer(lgb_model)\n",
        "shap_values = explainer.shap_values(X_shap)"
      ],
      "execution_count": null,
      "outputs": []
    },
    {
      "cell_type": "code",
      "metadata": {
        "id": "VTr1s5nYDdKf"
      },
      "source": [
        "shap.summary_plot(shap_values[1], X_shap, plot_type=\"dot\")"
      ],
      "execution_count": null,
      "outputs": []
    },
    {
      "cell_type": "markdown",
      "metadata": {
        "id": "SERhaSmkNMeL"
      },
      "source": [
        "**0 = close price  increase**\n",
        "\n",
        "**1 = close price  decrease**\n",
        "\n",
        "Here with this shap plot we can understand that\n",
        "*  ***Higher the value of close3_ma  means that close price will be higher than previous day***\n",
        "*  whereas higher exponential weighted moving avg will give mean  that price will decrease "
      ]
    },
    {
      "cell_type": "markdown",
      "metadata": {
        "id": "KoO8qZuhFAUy"
      },
      "source": [
        "Feature importance in validation set"
      ]
    },
    {
      "cell_type": "code",
      "metadata": {
        "id": "kp4Kw_oTDdHW"
      },
      "source": [
        "X_shap=X_val\n",
        "explainer = shap.TreeExplainer(lgb_model)\n",
        "shap_values = explainer.shap_values(X_shap)"
      ],
      "execution_count": null,
      "outputs": []
    },
    {
      "cell_type": "code",
      "metadata": {
        "id": "AWy_l4FUDdEN"
      },
      "source": [
        "shap.summary_plot(shap_values[1], X_shap, plot_type=\"dot\")"
      ],
      "execution_count": null,
      "outputs": []
    },
    {
      "cell_type": "code",
      "metadata": {
        "id": "jyiBxXqMDdBK"
      },
      "source": [
        ""
      ],
      "execution_count": null,
      "outputs": []
    },
    {
      "cell_type": "code",
      "metadata": {
        "id": "aSxMpVgODc9I"
      },
      "source": [
        ""
      ],
      "execution_count": null,
      "outputs": []
    },
    {
      "cell_type": "markdown",
      "metadata": {
        "id": "oznBsRemFPv4"
      },
      "source": [
        "Feature importance in training set"
      ]
    },
    {
      "cell_type": "code",
      "metadata": {
        "id": "CoLbcXaRDc54"
      },
      "source": [
        "X_shap=X_train\n",
        "explainer = shap.TreeExplainer(lgb_model)\n",
        "shap_values = explainer.shap_values(X_shap)"
      ],
      "execution_count": null,
      "outputs": []
    },
    {
      "cell_type": "code",
      "metadata": {
        "id": "U_AM6Z0kDc23"
      },
      "source": [
        "shap.summary_plot(shap_values[1], X_shap, plot_type=\"dot\")"
      ],
      "execution_count": null,
      "outputs": []
    },
    {
      "cell_type": "code",
      "metadata": {
        "id": "ngf9tgg5DczZ"
      },
      "source": [
        ""
      ],
      "execution_count": null,
      "outputs": []
    },
    {
      "cell_type": "code",
      "metadata": {
        "id": "XdogBQuqBKdu"
      },
      "source": [
        "import xgboost as xgb\n",
        "from xgboost.sklearn import XGBClassifier\n",
        "from sklearn.model_selection import cross_validate    #Additional scklearn functions\n",
        "  \n",
        "from sklearn.model_selection import GridSearchCV\n",
        "\n",
        "import matplotlib.pylab as plt\n",
        "%matplotlib inline\n",
        "from matplotlib.pylab import rcParams\n",
        "rcParams['figure.figsize'] = 12, 4"
      ],
      "execution_count": null,
      "outputs": []
    },
    {
      "cell_type": "markdown",
      "metadata": {
        "id": "2MCeJDAwPkqt"
      },
      "source": [
        "##XGboost "
      ]
    },
    {
      "cell_type": "code",
      "metadata": {
        "id": "CthmwcSdCiLX"
      },
      "source": [
        "xb_model= XGBClassifier(gamma=20)"
      ],
      "execution_count": null,
      "outputs": []
    },
    {
      "cell_type": "code",
      "metadata": {
        "id": "Yp8lgMYxjZTi"
      },
      "source": [
        "xb_model.fit(X_train,y_train)"
      ],
      "execution_count": null,
      "outputs": []
    },
    {
      "cell_type": "code",
      "metadata": {
        "id": "Gk9rkue2lO-K"
      },
      "source": [
        "y_train_pred = xb_model.predict(X_train)"
      ],
      "execution_count": null,
      "outputs": []
    },
    {
      "cell_type": "code",
      "metadata": {
        "id": "Dh5DsvxdlO6q"
      },
      "source": [
        "y_train_pred"
      ],
      "execution_count": null,
      "outputs": []
    },
    {
      "cell_type": "code",
      "metadata": {
        "id": "Vd7n1a4jkprH"
      },
      "source": [
        "accuracy_score(y_train,y_train_pred)"
      ],
      "execution_count": null,
      "outputs": []
    },
    {
      "cell_type": "code",
      "metadata": {
        "id": "Z4aCm6PB1QXs"
      },
      "source": [
        "accuracy_score(y_test,y_test_pred)"
      ],
      "execution_count": null,
      "outputs": []
    },
    {
      "cell_type": "code",
      "metadata": {
        "id": "A_Klc0XDlHbH"
      },
      "source": [
        "y_test_pred = xb_model.predict(X_test)"
      ],
      "execution_count": null,
      "outputs": []
    },
    {
      "cell_type": "code",
      "metadata": {
        "id": "o4Q8e4V5P091"
      },
      "source": [
        ""
      ],
      "execution_count": null,
      "outputs": []
    },
    {
      "cell_type": "code",
      "metadata": {
        "id": "Gn1VhbqKP06i"
      },
      "source": [
        ""
      ],
      "execution_count": null,
      "outputs": []
    },
    {
      "cell_type": "code",
      "metadata": {
        "id": "xqUXW1xgP03a"
      },
      "source": [
        ""
      ],
      "execution_count": null,
      "outputs": []
    },
    {
      "cell_type": "code",
      "metadata": {
        "id": "TARjkm2xP00C"
      },
      "source": [
        ""
      ],
      "execution_count": null,
      "outputs": []
    },
    {
      "cell_type": "code",
      "metadata": {
        "id": "9hutr3krP0wr"
      },
      "source": [
        ""
      ],
      "execution_count": null,
      "outputs": []
    },
    {
      "cell_type": "code",
      "metadata": {
        "id": "oGCx2UMGP0sQ"
      },
      "source": [
        ""
      ],
      "execution_count": null,
      "outputs": []
    },
    {
      "cell_type": "code",
      "metadata": {
        "id": "lt92XdzRP0o2"
      },
      "source": [
        ""
      ],
      "execution_count": null,
      "outputs": []
    },
    {
      "cell_type": "code",
      "metadata": {
        "id": "urMC5p5eP0ls"
      },
      "source": [
        ""
      ],
      "execution_count": null,
      "outputs": []
    },
    {
      "cell_type": "code",
      "metadata": {
        "id": "65Yl31GSP0hT"
      },
      "source": [
        ""
      ],
      "execution_count": null,
      "outputs": []
    },
    {
      "cell_type": "code",
      "metadata": {
        "id": "q9gC9OshP0dJ"
      },
      "source": [
        ""
      ],
      "execution_count": null,
      "outputs": []
    },
    {
      "cell_type": "code",
      "metadata": {
        "id": "vQ26sO9FP0YO"
      },
      "source": [
        ""
      ],
      "execution_count": null,
      "outputs": []
    },
    {
      "cell_type": "code",
      "metadata": {
        "id": "NkMSP-e2P0U3"
      },
      "source": [
        ""
      ],
      "execution_count": null,
      "outputs": []
    },
    {
      "cell_type": "code",
      "metadata": {
        "id": "qlLYRDfWP0RU"
      },
      "source": [
        ""
      ],
      "execution_count": null,
      "outputs": []
    },
    {
      "cell_type": "code",
      "metadata": {
        "id": "5zN5i9qlP0Nx"
      },
      "source": [
        ""
      ],
      "execution_count": null,
      "outputs": []
    },
    {
      "cell_type": "code",
      "metadata": {
        "id": "-svkem40P0Jw"
      },
      "source": [
        ""
      ],
      "execution_count": null,
      "outputs": []
    },
    {
      "cell_type": "code",
      "metadata": {
        "id": "4iMb6YLUP0GK"
      },
      "source": [
        ""
      ],
      "execution_count": null,
      "outputs": []
    },
    {
      "cell_type": "code",
      "metadata": {
        "id": "qdlg0n_TP0Cv"
      },
      "source": [
        ""
      ],
      "execution_count": null,
      "outputs": []
    },
    {
      "cell_type": "code",
      "metadata": {
        "id": "EtoIlvNTPz-5"
      },
      "source": [
        ""
      ],
      "execution_count": null,
      "outputs": []
    },
    {
      "cell_type": "code",
      "metadata": {
        "id": "h3p5EIBk1VrN"
      },
      "source": [
        ""
      ],
      "execution_count": null,
      "outputs": []
    }
  ]
}